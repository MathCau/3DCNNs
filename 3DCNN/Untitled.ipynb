{
 "cells": [
  {
   "cell_type": "code",
   "execution_count": null,
   "metadata": {},
   "outputs": [],
   "source": [
    "%run train_c3d_ucf101.py"
   ]
  },
  {
   "cell_type": "code",
   "execution_count": null,
   "metadata": {
    "scrolled": true
   },
   "outputs": [],
   "source": [
    "import tensorflow as tf\n",
    "import sys\n",
    "from tensorflow.python.platform import gfile\n",
    "\n",
    "from tensorflow.core.protobuf import saved_model_pb2\n",
    "from tensorflow.python.util import compat\n",
    "\n",
    "with tf.Session() as sess:\n",
    "    model_filename ='models/c3d_ucf_model-119'\n",
    "    with gfile.GFile(model_filename, 'rb') as f:\n",
    "        data = compat.as_bytes(f.read())\n",
    "        sm = saved_model_pb2.SavedModel()\n",
    "        sm.ParseFromString(data)\n",
    "        #print(sm)\n",
    "        if 1 != len(sm.meta_graphs):\n",
    "            print('More than one graph found. Not sure which to write')\n",
    "            sys.exit(1)\n",
    "\n",
    "      \t#graph_def = tf.GraphDef()\n",
    "        #graph_def.ParseFromString(sm.meta_graphs[0])\n",
    "        g_in = tf.import_graph_def(sm.meta_graphs[0].graph_def)\n",
    "LOGDIR='visual_logs/test'\n",
    "train_writer = tf.summary.FileWriter(LOGDIR)\n",
    "train_writer.add_graph(sess.graph)\n"
   ]
  },
  {
   "cell_type": "code",
   "execution_count": 1,
   "metadata": {},
   "outputs": [
    {
     "name": "stderr",
     "output_type": "stream",
     "text": [
      "C:\\Users\\mathi\\Anaconda3\\lib\\site-packages\\tensorflow\\python\\framework\\dtypes.py:523: FutureWarning: Passing (type, 1) or '1type' as a synonym of type is deprecated; in a future version of numpy, it will be understood as (type, (1,)) / '(1,)type'.\n",
      "  _np_qint8 = np.dtype([(\"qint8\", np.int8, 1)])\n",
      "C:\\Users\\mathi\\Anaconda3\\lib\\site-packages\\tensorflow\\python\\framework\\dtypes.py:524: FutureWarning: Passing (type, 1) or '1type' as a synonym of type is deprecated; in a future version of numpy, it will be understood as (type, (1,)) / '(1,)type'.\n",
      "  _np_quint8 = np.dtype([(\"quint8\", np.uint8, 1)])\n",
      "C:\\Users\\mathi\\Anaconda3\\lib\\site-packages\\tensorflow\\python\\framework\\dtypes.py:525: FutureWarning: Passing (type, 1) or '1type' as a synonym of type is deprecated; in a future version of numpy, it will be understood as (type, (1,)) / '(1,)type'.\n",
      "  _np_qint16 = np.dtype([(\"qint16\", np.int16, 1)])\n",
      "C:\\Users\\mathi\\Anaconda3\\lib\\site-packages\\tensorflow\\python\\framework\\dtypes.py:526: FutureWarning: Passing (type, 1) or '1type' as a synonym of type is deprecated; in a future version of numpy, it will be understood as (type, (1,)) / '(1,)type'.\n",
      "  _np_quint16 = np.dtype([(\"quint16\", np.uint16, 1)])\n",
      "C:\\Users\\mathi\\Anaconda3\\lib\\site-packages\\tensorflow\\python\\framework\\dtypes.py:527: FutureWarning: Passing (type, 1) or '1type' as a synonym of type is deprecated; in a future version of numpy, it will be understood as (type, (1,)) / '(1,)type'.\n",
      "  _np_qint32 = np.dtype([(\"qint32\", np.int32, 1)])\n",
      "C:\\Users\\mathi\\Anaconda3\\lib\\site-packages\\tensorflow\\python\\framework\\dtypes.py:532: FutureWarning: Passing (type, 1) or '1type' as a synonym of type is deprecated; in a future version of numpy, it will be understood as (type, (1,)) / '(1,)type'.\n",
      "  np_resource = np.dtype([(\"resource\", np.ubyte, 1)])\n"
     ]
    },
    {
     "name": "stdout",
     "output_type": "stream",
     "text": [
      "Tensor(\"Placeholder:0\", shape=(16, 16, 112, 112, 3), dtype=float32)\n",
      "Tensor(\"Placeholder_1:0\", shape=(16,), dtype=int64)\n",
      "done\n",
      "INFO:tensorflow:Restoring parameters from ./sports1m_finetuning_ucf101.model\n",
      "Step 0: 12.958 sec\n",
      "Training Data Eval:\n",
      "accuracy: 0.56250\n",
      " Loss :  [5.6813602 5.6825767 5.703839  5.7252126 5.7465014 5.7891912 5.7890253\n",
      " 5.788766  7.0186357 6.341004  5.7749476 5.7058177 5.661214  5.661214\n",
      " 5.661214  5.661214  5.661214  5.661214  5.661214  5.661214  5.661214\n",
      " 5.661214  5.661214  5.661214 ]\n",
      "Validation Data Eval:\n",
      "accuracy: 0.50000\n",
      "Step 1: 8.585 sec\n",
      "Step 2: 10.069 sec\n",
      "Step 3: 9.985 sec\n",
      "Step 4: 9.500 sec\n",
      "Step 5: 8.018 sec\n",
      "Step 6: 10.002 sec\n",
      "Step 7: 9.418 sec\n",
      "Step 8: 10.062 sec\n",
      "Step 9: 9.063 sec\n",
      "Step 10: 9.457 sec\n",
      "Training Data Eval:\n",
      "accuracy: 0.37500\n",
      " Loss :  [1.2696736 1.2709061 1.292186  1.3135749 1.3348982 1.3774902 1.3769953\n",
      " 1.3752347 2.5607295 1.9122351 1.3627394 1.2931361 1.249543  1.249543\n",
      " 1.249543  1.249543  1.249543  1.249543  1.249543  1.249543  1.249543\n",
      " 1.249543  1.249543  1.249543 ]\n",
      "Validation Data Eval:\n",
      "accuracy: 0.62500\n",
      "Step 11: 9.010 sec\n",
      "Step 12: 8.927 sec\n",
      "Step 13: 7.349 sec\n",
      "Step 14: 8.989 sec\n",
      "Step 15: 9.973 sec\n",
      "Step 16: 9.542 sec\n",
      "Step 17: 10.014 sec\n",
      "Step 18: 9.520 sec\n",
      "Step 19: 9.028 sec\n",
      "Step 20: 9.435 sec\n",
      "Training Data Eval:\n",
      "accuracy: 0.68750\n",
      " Loss :  [0.94844687 0.94968945 0.97098315 0.99238247 1.0137331  1.05628\n",
      " 1.0555836  1.0527679  2.2047799  1.5784109  1.041193   0.9714408\n",
      " 0.9283226  0.9283226  0.9283226  0.9283226  0.9283226  0.9283226\n",
      " 0.9283226  0.9283226  0.9283226  0.9283226  0.9283226  0.9283226 ]\n",
      "Validation Data Eval:\n",
      "accuracy: 0.43750\n",
      "Step 21: 8.443 sec\n",
      "Step 22: 8.978 sec\n",
      "Step 23: 10.503 sec\n",
      "Step 24: 9.437 sec\n",
      "Step 25: 8.485 sec\n",
      "Step 26: 10.555 sec\n",
      "Step 27: 9.045 sec\n",
      "Step 28: 7.448 sec\n",
      "Step 29: 10.555 sec\n",
      "Step 30: 9.513 sec\n",
      "Training Data Eval:\n",
      "accuracy: 0.62500\n",
      " Loss :  [1.1013234 1.1025702 1.1238705 1.1452703 1.1666306 1.209112  1.208256\n",
      " 1.2045976 2.328074  1.7202327 1.1937857 1.1239402 1.0812013 1.0812013\n",
      " 1.0812013 1.0812013 1.0812013 1.0812013 1.0812013 1.0812013 1.0812013\n",
      " 1.0812013 1.0812013 1.0812013]\n",
      "Validation Data Eval:\n",
      "accuracy: 0.56250\n",
      "Step 31: 9.510 sec\n",
      "Step 32: 9.039 sec\n",
      "Step 33: 9.008 sec\n",
      "Step 34: 7.940 sec\n",
      "Step 35: 8.994 sec\n",
      "Step 36: 8.412 sec\n",
      "Step 37: 8.112 sec\n",
      "Step 38: 9.556 sec\n",
      "Step 39: 10.587 sec\n",
      "Step 40: 9.510 sec\n",
      "Training Data Eval:\n",
      "accuracy: 0.37500\n",
      " Loss :  [1.1062703 1.1075189 1.1288214 1.1502166 1.1715766 1.213989  1.2130014\n",
      " 1.2086625 2.3073645 1.7152412 1.1984715 1.1284974 1.0861495 1.0861495\n",
      " 1.0861495 1.0861495 1.0861495 1.0861495 1.0861495 1.0861495 1.0861495\n",
      " 1.0861495 1.0861495 1.0861495]\n",
      "Validation Data Eval:\n",
      "accuracy: 0.31250\n",
      "Step 41: 10.630 sec\n",
      "Step 42: 7.460 sec\n",
      "Step 43: 10.014 sec\n",
      "Step 44: 9.526 sec\n",
      "Step 45: 10.648 sec\n",
      "Step 46: 10.620 sec\n",
      "Step 47: 7.953 sec\n",
      "Step 48: 9.974 sec\n",
      "Step 49: 10.167 sec\n",
      "Step 50: 8.939 sec\n",
      "Training Data Eval:\n",
      "accuracy: 0.43750\n",
      " Loss :  [0.88524526 0.8864944  0.9077977  0.92918587 0.95054376 0.992895\n",
      " 0.9917973  0.9869075  2.0640132  1.4852021  0.9772061  0.90707755\n",
      " 0.8651248  0.8651248  0.8651248  0.8651248  0.8651248  0.8651248\n",
      " 0.8651248  0.8651248  0.8651248  0.8651248  0.8651248  0.8651248 ]\n",
      "Validation Data Eval:\n",
      "accuracy: 0.50000\n",
      "Step 51: 10.558 sec\n",
      "Step 52: 8.989 sec\n",
      "Step 53: 9.492 sec\n",
      "Step 54: 9.509 sec\n",
      "Step 55: 7.844 sec\n",
      "Step 56: 9.444 sec\n",
      "Step 57: 7.451 sec\n",
      "Step 58: 9.473 sec\n",
      "Step 59: 9.522 sec\n",
      "Step 60: 8.969 sec\n",
      "Training Data Eval:\n",
      "accuracy: 0.37500\n",
      " Loss :  [0.99115515 0.9924045  1.0137079  1.0350881  1.0564446  1.0987428\n",
      " 1.0975543  1.0922216  2.1506433  1.5829952  1.082899   1.0127084\n",
      " 0.97103494 0.97103494 0.97103494 0.97103494 0.97103494 0.97103494\n",
      " 0.97103494 0.97103494 0.97103494 0.97103494 0.97103494 0.97103494]\n",
      "Validation Data Eval:\n",
      "accuracy: 0.62500\n",
      "Step 61: 8.470 sec\n",
      "Step 62: 7.363 sec\n",
      "Step 63: 8.070 sec\n",
      "Step 64: 10.617 sec\n",
      "Step 65: 9.614 sec\n",
      "Step 66: 8.936 sec\n",
      "Step 67: 10.030 sec\n",
      "Step 68: 10.061 sec\n",
      "Step 69: 9.061 sec\n",
      "Step 70: 9.504 sec\n",
      "Training Data Eval:\n",
      "accuracy: 0.75000\n",
      " Loss :  [0.87245464 0.87370414 0.89500684 0.91637915 0.9377352  0.97999054\n",
      " 0.9787271  0.9730412  2.0152764  1.4569619  0.9639993  0.8937236\n",
      " 0.85233444 0.85233444 0.85233444 0.85233444 0.85233444 0.85233444\n",
      " 0.85233444 0.85233444 0.85233444 0.85233444 0.85233444 0.85233444]\n",
      "Validation Data Eval:\n",
      "accuracy: 0.31250\n",
      "Step 71: 9.494 sec\n",
      "Step 72: 10.056 sec\n",
      "Step 73: 9.040 sec\n",
      "Step 74: 8.542 sec\n",
      "Step 75: 8.447 sec\n",
      "Step 76: 10.009 sec\n",
      "Step 77: 9.562 sec\n",
      "Step 78: 8.957 sec\n",
      "Step 79: 7.987 sec\n",
      "Step 80: 10.046 sec\n",
      "Training Data Eval:\n",
      "accuracy: 0.50000\n",
      " Loss :  [0.87934744 0.8805972  0.9018997  0.9232644  0.9446218  0.9868475\n",
      " 0.9855199  0.9795533  2.0078073  1.4572277  0.9707067  0.90035343\n",
      " 0.8592272  0.8592272  0.8592272  0.8592272  0.8592272  0.8592272\n",
      " 0.8592272  0.8592272  0.8592272  0.8592272  0.8592272  0.8592272 ]\n",
      "Validation Data Eval:\n",
      "accuracy: 0.50000\n",
      "Step 81: 9.032 sec\n",
      "Step 82: 10.190 sec\n",
      "Step 83: 10.040 sec\n",
      "Step 84: 10.236 sec\n",
      "Step 85: 10.096 sec\n",
      "Step 86: 9.400 sec\n",
      "Step 87: 9.347 sec\n",
      "Step 88: 9.965 sec\n",
      "Step 89: 7.825 sec\n",
      "Step 90: 10.685 sec\n",
      "Training Data Eval:\n",
      "accuracy: 0.87500\n",
      " Loss :  [0.40206784 0.40331843 0.424622   0.44597933 0.46734408 0.50955373\n",
      " 0.50816816 0.50198203 1.5183294  0.9740213  0.4932592  0.42286772\n",
      " 0.38194704 0.38194704 0.38194704 0.38194704 0.38194704 0.38194704\n",
      " 0.38194704 0.38194704 0.38194704 0.38194704 0.38194704 0.38194704]\n",
      "Validation Data Eval:\n",
      "accuracy: 0.62500\n",
      "Step 91: 9.886 sec\n",
      "Step 92: 8.863 sec\n",
      "Step 93: 8.239 sec\n",
      "Step 94: 8.333 sec\n",
      "Step 95: 9.831 sec\n",
      "Step 96: 9.348 sec\n",
      "Step 97: 9.372 sec\n",
      "Step 98: 9.849 sec\n",
      "Step 99: 7.210 sec\n",
      "Step 100: 7.785 sec\n",
      "Training Data Eval:\n",
      "accuracy: 0.75000\n",
      " Loss :  [0.60996336 0.61121464 0.63252044 0.65387064 0.67524743 0.7174521\n",
      " 0.7160191  0.70966756 1.7159901  1.1766319  0.70099634 0.63043237\n",
      " 0.5898404  0.5898404  0.5898404  0.5898404  0.5898404  0.5898404\n",
      " 0.5898404  0.5898404  0.5898404  0.5898404  0.5898404  0.5898404 ]\n",
      "Validation Data Eval:\n",
      "accuracy: 0.31250\n",
      "Step 101: 8.378 sec\n",
      "Step 102: 9.895 sec\n",
      "Step 103: 9.804 sec\n",
      "Step 104: 7.804 sec\n",
      "Step 105: 9.401 sec\n",
      "Step 106: 7.781 sec\n",
      "Step 107: 8.235 sec\n",
      "Step 108: 9.857 sec\n",
      "Step 109: 8.730 sec\n",
      "Step 110: 7.747 sec\n",
      "Training Data Eval:\n",
      "accuracy: 0.56250\n",
      " Loss :  [0.55410504 0.55535936 0.57666564 0.59801    0.61940175 0.6616105\n",
      " 0.66013485 0.65366226 1.6516328  1.1161003  0.6449882  0.5742097\n",
      " 0.5339794  0.5339794  0.5339794  0.5339794  0.5339794  0.5339794\n",
      " 0.5339794  0.5339794  0.5339794  0.5339794  0.5339794  0.5339794 ]\n",
      "Validation Data Eval:\n",
      "accuracy: 0.75000\n",
      "Step 111: 8.814 sec\n",
      "Step 112: 9.846 sec\n",
      "Step 113: 9.337 sec\n",
      "Step 114: 8.823 sec\n",
      "Step 115: 9.898 sec\n",
      "Step 116: 9.870 sec\n",
      "Step 117: 9.443 sec\n",
      "Step 118: 9.292 sec\n",
      "Step 119: 8.326 sec\n",
      "Step 120: 8.846 sec\n",
      "Training Data Eval:\n",
      "accuracy: 0.68750\n",
      " Loss :  [0.78347147 0.7847319  0.80603814 0.8273766  0.8487819  0.8909954\n",
      " 0.8894853  0.8829284  1.8739889  1.3413608  0.8742174  0.8033016\n",
      " 0.7633455  0.7633455  0.7633455  0.7633455  0.7633455  0.7633455\n",
      " 0.7633455  0.7633455  0.7633455  0.7633455  0.7633455  0.7633455 ]\n",
      "Validation Data Eval:\n",
      "accuracy: 0.37500\n",
      "Step 121: 10.403 sec\n",
      "Step 122: 8.826 sec\n",
      "Step 123: 9.866 sec\n",
      "Step 124: 8.798 sec\n",
      "Step 125: 9.319 sec\n",
      "Step 126: 8.351 sec\n",
      "Step 127: 8.851 sec\n",
      "Step 128: 9.289 sec\n",
      "Step 129: 8.293 sec\n",
      "Step 130: 8.885 sec\n",
      "Training Data Eval:\n",
      "accuracy: 0.81250\n",
      " Loss :  [0.55417    0.5554401  0.57674575 0.5980834  0.6194974  0.6617148\n",
      " 0.6601747  0.65355814 1.6387924  1.1084033  0.6447884  0.5740373\n",
      " 0.534044   0.534044   0.534044   0.534044   0.534044   0.534044\n",
      " 0.534044   0.534044   0.534044   0.534044   0.534044   0.534044  ]\n",
      "Validation Data Eval:\n",
      "accuracy: 0.68750\n",
      "Step 131: 9.920 sec\n",
      "Step 132: 8.817 sec\n",
      "Step 133: 8.804 sec\n",
      "Step 134: 7.811 sec\n",
      "Step 135: 9.884 sec\n",
      "Step 136: 8.722 sec\n",
      "Step 137: 9.925 sec\n",
      "Step 138: 8.821 sec\n",
      "Step 139: 9.840 sec\n",
      "Step 140: 9.808 sec\n",
      "Training Data Eval:\n",
      "accuracy: 0.87500\n",
      " Loss :  [0.4006631  0.4019395  0.42324704 0.44458112 0.46600583 0.5082351\n",
      " 0.5066648  0.5000054  1.4803975  0.9516678  0.49116194 0.4204014\n",
      " 0.38053563 0.38053563 0.38053563 0.38053563 0.38053563 0.38053563\n",
      " 0.38053563 0.38053563 0.38053563 0.38053563 0.38053563 0.38053563]\n",
      "Validation Data Eval:\n",
      "accuracy: 0.62500\n",
      "Step 141: 9.358 sec\n",
      "Step 142: 8.750 sec\n",
      "Step 143: 10.371 sec\n"
     ]
    },
    {
     "name": "stdout",
     "output_type": "stream",
     "text": [
      "Step 144: 9.307 sec\n",
      "Step 145: 9.329 sec\n",
      "Step 146: 8.907 sec\n",
      "Step 147: 9.329 sec\n",
      "Step 148: 9.368 sec\n",
      "Step 149: 8.375 sec\n",
      "Step 150: 8.210 sec\n",
      "Training Data Eval:\n",
      "accuracy: 1.00000\n",
      " Loss :  [0.09969231 0.1009758  0.12228232 0.14361371 0.16504833 0.20729025\n",
      " 0.20569429 0.1990165  1.1754346  0.6478685  0.19008201 0.11914457\n",
      " 0.07956512 0.07956512 0.07956512 0.07956512 0.07956512 0.07956512\n",
      " 0.07956512 0.07956512 0.07956512 0.07956512 0.07956512 0.07956512]\n",
      "Validation Data Eval:\n",
      "accuracy: 0.75000\n",
      "Step 151: 9.795 sec\n",
      "Step 152: 8.798 sec\n",
      "Step 153: 9.892 sec\n",
      "Step 154: 9.367 sec\n",
      "Step 155: 9.891 sec\n",
      "Step 156: 9.865 sec\n",
      "Step 157: 7.748 sec\n",
      "Step 158: 8.859 sec\n",
      "Step 159: 10.320 sec\n",
      "Step 160: 7.801 sec\n",
      "Training Data Eval:\n",
      "accuracy: 1.00000\n",
      " Loss :  [0.09390189 0.09518981 0.11649663 0.13782425 0.15927082 0.20151828\n",
      " 0.1999048  0.19321312 1.1662941  0.63956165 0.18419033 0.11300512\n",
      " 0.07377368 0.07377368 0.07377368 0.07377368 0.07377368 0.07377368\n",
      " 0.07377368 0.07377368 0.07377368 0.07377368 0.07377368 0.07377368]\n",
      "Validation Data Eval:\n",
      "accuracy: 0.81250\n",
      "Step 161: 8.870 sec\n",
      "Step 162: 8.256 sec\n",
      "Step 163: 9.897 sec\n",
      "Step 164: 8.289 sec\n",
      "Step 165: 8.861 sec\n",
      "Step 166: 9.900 sec\n",
      "Step 167: 8.744 sec\n",
      "Step 168: 8.824 sec\n",
      "Step 169: 9.835 sec\n",
      "Step 170: 9.851 sec\n",
      "Training Data Eval:\n",
      "accuracy: 0.93750\n",
      " Loss :  [0.34815174 0.3494462  0.3707497  0.39207473 0.4135288  0.45577693\n",
      " 0.454147   0.44744697 1.417633   0.8915273  0.438347   0.36690712\n",
      " 0.3280241  0.3280241  0.3280241  0.3280241  0.3280241  0.3280241\n",
      " 0.3280241  0.3280241  0.3280241  0.3280241  0.3280241  0.3280241 ]\n",
      "Validation Data Eval:\n",
      "accuracy: 0.75000\n",
      "Step 171: 9.924 sec\n",
      "Step 172: 8.915 sec\n",
      "Step 173: 8.903 sec\n",
      "Step 174: 10.441 sec\n",
      "Step 175: 9.794 sec\n",
      "Step 176: 8.322 sec\n",
      "Step 177: 9.992 sec\n",
      "Step 178: 8.721 sec\n",
      "Step 179: 9.892 sec\n",
      "Step 180: 8.757 sec\n",
      "Training Data Eval:\n",
      "accuracy: 0.87500\n",
      " Loss :  [0.33038864 0.3316904  0.35299206 0.3743135  0.3957784  0.4380259\n",
      " 0.43638182 0.429676   1.3973606  0.87168753 0.420497   0.34889048\n",
      " 0.31026027 0.31026027 0.31026027 0.31026027 0.31026027 0.31026027\n",
      " 0.31026027 0.31026027 0.31026027 0.31026027 0.31026027 0.31026027]\n",
      "Validation Data Eval:\n",
      "accuracy: 0.50000\n",
      "Step 181: 9.287 sec\n",
      "Step 182: 9.317 sec\n",
      "Step 183: 9.331 sec\n",
      "Step 184: 9.826 sec\n",
      "Step 185: 8.807 sec\n",
      "Step 186: 8.739 sec\n",
      "Step 187: 9.360 sec\n",
      "Step 188: 10.365 sec\n",
      "Step 189: 8.803 sec\n",
      "Step 190: 10.324 sec\n",
      "Training Data Eval:\n",
      "accuracy: 0.87500\n",
      " Loss :  [0.24117513 0.24248555 0.26378384 0.2851045  0.30657813 0.3488251\n",
      " 0.3471622  0.34045523 1.3059957  0.780591   0.33120346 0.25967905\n",
      " 0.22104675 0.22104675 0.22104675 0.22104675 0.22104675 0.22104675\n",
      " 0.22104675 0.22104675 0.22104675 0.22104675 0.22104675 0.22104675]\n",
      "Validation Data Eval:\n",
      "accuracy: 0.81250\n",
      "Step 191: 7.847 sec\n",
      "Step 192: 9.794 sec\n",
      "Step 193: 8.315 sec\n",
      "Step 194: 9.309 sec\n",
      "Step 195: 9.883 sec\n",
      "Step 196: 8.922 sec\n",
      "Step 197: 9.387 sec\n",
      "Step 198: 9.432 sec\n",
      "Step 199: 8.748 sec\n",
      "Step 200: 8.819 sec\n",
      "Training Data Eval:\n",
      "accuracy: 0.75000\n",
      " Loss :  [0.60589    0.6072071  0.62850785 0.6498243  0.67131084 0.7135605\n",
      " 0.71187955 0.70517933 1.6689517  1.1436322  0.69584787 0.6245735\n",
      " 0.58576155 0.58576155 0.58576155 0.58576155 0.58576155 0.58576155\n",
      " 0.58576155 0.58576155 0.58576155 0.58576155 0.58576155 0.58576155]\n",
      "Validation Data Eval:\n",
      "accuracy: 0.62500\n",
      "Step 201: 9.261 sec\n",
      "Step 202: 9.837 sec\n",
      "Step 203: 8.756 sec\n",
      "Step 204: 8.806 sec\n",
      "Step 205: 9.308 sec\n",
      "Step 206: 10.441 sec\n",
      "Step 207: 9.342 sec\n",
      "Step 208: 8.871 sec\n",
      "Step 209: 7.253 sec\n",
      "Step 210: 8.813 sec\n",
      "Training Data Eval:\n",
      "accuracy: 0.87500\n",
      " Loss :  [0.53774565 0.5390687  0.5603693  0.5816847  0.60317636 0.6454266\n",
      " 0.64373434 0.63704395 1.5992732  1.0739717  0.62763625 0.5563181\n",
      " 0.5176175  0.5176175  0.5176175  0.5176175  0.5176175  0.5176175\n",
      " 0.5176175  0.5176175  0.5176175  0.5176175  0.5176175  0.5176175 ]\n",
      "Validation Data Eval:\n",
      "accuracy: 0.87500\n",
      "Step 211: 7.765 sec\n",
      "Step 212: 8.707 sec\n",
      "Step 213: 8.810 sec\n",
      "Step 214: 8.870 sec\n",
      "Step 215: 8.371 sec\n",
      "Step 216: 9.240 sec\n",
      "Step 217: 9.766 sec\n",
      "Step 218: 8.265 sec\n",
      "Step 219: 9.910 sec\n",
      "Step 220: 9.880 sec\n",
      "Training Data Eval:\n",
      "accuracy: 0.87500\n",
      " Loss :  [0.23380914 0.23514079 0.25643727 0.27774912 0.2992483  0.34149504\n",
      " 0.33979306 0.33311352 1.2939873  0.76866156 0.32363716 0.2521603\n",
      " 0.21368045 0.21368045 0.21368045 0.21368045 0.21368045 0.21368045\n",
      " 0.21368045 0.21368045 0.21368045 0.21368045 0.21368045 0.21368045]\n",
      "Validation Data Eval:\n",
      "accuracy: 0.62500\n",
      "Step 221: 10.161 sec\n",
      "Step 222: 7.699 sec\n",
      "Step 223: 9.983 sec\n",
      "Step 224: 9.409 sec\n",
      "Step 225: 9.938 sec\n",
      "Step 226: 8.317 sec\n",
      "Step 227: 9.383 sec\n",
      "Step 228: 8.949 sec\n",
      "Step 229: 8.983 sec\n",
      "Step 230: 10.441 sec\n",
      "Training Data Eval:\n",
      "accuracy: 0.81250\n",
      " Loss :  [0.59445494 0.59579104 0.6170857  0.6383948  0.6599023  0.7021513\n",
      " 0.7004381  0.69376314 1.6534258  1.1280491  0.6842256  0.6126633\n",
      " 0.57432485 0.57432485 0.57432485 0.57432485 0.57432485 0.57432485\n",
      " 0.57432485 0.57432485 0.57432485 0.57432485 0.57432485 0.57432485]\n",
      "Validation Data Eval:\n",
      "accuracy: 0.75000\n",
      "Step 231: 9.440 sec\n",
      "Step 232: 9.045 sec\n",
      "Step 233: 9.387 sec\n",
      "Step 234: 9.522 sec\n",
      "Step 235: 9.435 sec\n",
      "Step 236: 9.976 sec\n",
      "Step 237: 8.832 sec\n",
      "Step 238: 9.391 sec\n",
      "Step 239: 9.409 sec\n",
      "Step 240: 10.435 sec\n",
      "Training Data Eval:\n",
      "accuracy: 0.93750\n",
      " Loss :  [0.20505407 0.20639503 0.22768782 0.24899736 0.2705085  0.31275633\n",
      " 0.31103167 0.30436093 1.2629088  0.73748124 0.29477024 0.22299536\n",
      " 0.18492477 0.18492477 0.18492477 0.18492477 0.18492477 0.18492477\n",
      " 0.18492477 0.18492477 0.18492477 0.18492477 0.18492477 0.18492477]\n",
      "Validation Data Eval:\n",
      "accuracy: 0.81250\n",
      "Step 241: 9.369 sec\n",
      "Step 242: 9.960 sec\n",
      "Step 243: 9.366 sec\n",
      "Step 244: 9.334 sec\n",
      "Step 245: 9.888 sec\n",
      "Step 246: 9.973 sec\n",
      "Step 247: 9.487 sec\n",
      "Step 248: 8.854 sec\n",
      "Step 249: 8.868 sec\n",
      "Step 250: 9.419 sec\n",
      "Training Data Eval:\n",
      "accuracy: 0.93750\n",
      " Loss :  [0.1471907  0.14853536 0.16983035 0.19113666 0.21265346 0.25490046\n",
      " 0.2531683  0.24649858 1.2040675  0.678554   0.2368572  0.16486937\n",
      " 0.12706126 0.12706126 0.12706126 0.12706126 0.12706126 0.12706126\n",
      " 0.12706126 0.12706126 0.12706126 0.12706126 0.12706126 0.12706126]\n",
      "Validation Data Eval:\n",
      "accuracy: 1.00000\n",
      "Step 251: 9.427 sec\n",
      "Step 252: 9.924 sec\n",
      "Step 253: 8.936 sec\n",
      "Step 254: 9.357 sec\n",
      "Step 255: 8.859 sec\n",
      "Step 256: 9.912 sec\n",
      "Step 257: 8.364 sec\n",
      "Step 258: 9.359 sec\n",
      "Step 259: 9.921 sec\n",
      "Step 260: 8.377 sec\n",
      "Training Data Eval:\n",
      "accuracy: 1.00000\n",
      " Loss :  [0.12199267 0.12334058 0.14463675 0.16593918 0.18746519 0.22971056\n",
      " 0.22796895 0.22129798 1.1779674  0.65237135 0.2116107  0.13938928\n",
      " 0.10186191 0.10186191 0.10186191 0.10186191 0.10186191 0.10186191\n",
      " 0.10186191 0.10186191 0.10186191 0.10186191 0.10186191 0.10186191]\n",
      "Validation Data Eval:\n",
      "accuracy: 0.62500\n",
      "Step 261: 9.868 sec\n",
      "Step 262: 9.389 sec\n",
      "Step 263: 8.858 sec\n",
      "Step 264: 8.541 sec\n",
      "Step 265: 9.983 sec\n",
      "Step 266: 9.534 sec\n",
      "Step 267: 9.910 sec\n",
      "Step 268: 9.366 sec\n",
      "Step 269: 8.881 sec\n",
      "Step 270: 9.984 sec\n",
      "Training Data Eval:\n",
      "accuracy: 0.93750\n",
      " Loss :  [0.32251376 0.3238662  0.34516016 0.3664619  0.3879908  0.4302333\n",
      " 0.42848134 0.42180866 1.3776419  0.85197675 0.4120851  0.3395914\n",
      " 0.30238196 0.30238196 0.30238196 0.30238196 0.30238196 0.30238196\n",
      " 0.30238196 0.30238196 0.30238196 0.30238196 0.30238196 0.30238196]\n",
      "Validation Data Eval:\n",
      "accuracy: 0.93750\n",
      "Step 271: 7.347 sec\n",
      "Step 272: 9.360 sec\n",
      "Step 273: 9.932 sec\n",
      "Step 274: 8.859 sec\n",
      "Step 275: 8.943 sec\n",
      "Step 276: 8.261 sec\n",
      "Step 277: 9.403 sec\n",
      "Step 278: 10.098 sec\n",
      "Step 279: 9.530 sec\n",
      "Step 280: 9.511 sec\n",
      "Training Data Eval:\n",
      "accuracy: 0.93750\n",
      " Loss :  [0.10975916 0.11111635 0.13241537 0.15371352 0.17524384 0.21749166\n",
      " 0.21572086 0.20904955 1.1641028  0.6383716  0.19928677 0.12651093\n",
      " 0.08962812 0.08962812 0.08962812 0.08962812 0.08962812 0.08962812\n",
      " 0.08962812 0.08962812 0.08962812 0.08962812 0.08962812 0.08962812]\n",
      "Validation Data Eval:\n",
      "accuracy: 0.87500\n",
      "Step 281: 7.905 sec\n",
      "Step 282: 9.100 sec\n",
      "Step 283: 8.430 sec\n",
      "Step 284: 9.557 sec\n",
      "Step 285: 8.887 sec\n",
      "Step 286: 9.931 sec\n",
      "Step 287: 8.864 sec\n",
      "Step 288: 9.913 sec\n",
      "Step 289: 10.381 sec\n",
      "Step 290: 8.848 sec\n",
      "Training Data Eval:\n",
      "accuracy: 0.87500\n",
      " Loss :  [0.29689392 0.29825866 0.31956542 0.34085673 0.3623958  0.40464526\n",
      " 0.4028554  0.39618933 1.350524   0.8247223  0.3863789  0.31342223\n",
      " 0.27676263 0.27676263 0.27676263 0.27676263 0.27676263 0.27676263\n",
      " 0.27676263 0.27676263 0.27676263 0.27676263 0.27676263 0.27676263]\n",
      "Validation Data Eval:\n"
     ]
    },
    {
     "name": "stdout",
     "output_type": "stream",
     "text": [
      "accuracy: 0.75000\n",
      "Step 291: 9.482 sec\n",
      "Step 292: 7.313 sec\n",
      "Step 293: 7.793 sec\n",
      "Step 294: 9.403 sec\n",
      "Step 295: 9.407 sec\n",
      "Step 296: 9.504 sec\n",
      "Step 297: 9.951 sec\n",
      "Step 298: 7.810 sec\n",
      "Step 299: 9.633 sec\n",
      "Step 300: 10.408 sec\n",
      "Training Data Eval:\n",
      "accuracy: 1.00000\n",
      " Loss :  [0.05711792 0.05848897 0.07980195 0.1010915  0.12264036 0.16489148\n",
      " 0.16308662 0.1564211  1.1101154  0.58422333 0.14656508 0.07361506\n",
      " 0.0369863  0.0369863  0.0369863  0.0369863  0.0369863  0.0369863\n",
      " 0.0369863  0.0369863  0.0369863  0.0369863  0.0369863  0.0369863 ]\n",
      "Validation Data Eval:\n",
      "accuracy: 0.87500\n",
      "Step 301: 8.368 sec\n",
      "Step 302: 10.008 sec\n",
      "Step 303: 9.491 sec\n",
      "Step 304: 9.359 sec\n",
      "Step 305: 8.505 sec\n",
      "Step 306: 8.911 sec\n",
      "Step 307: 8.856 sec\n",
      "Step 308: 8.870 sec\n",
      "Step 309: 9.043 sec\n",
      "Step 310: 9.525 sec\n",
      "Training Data Eval:\n",
      "accuracy: 1.00000\n",
      " Loss :  [0.14898784 0.1503633  0.17167988 0.19296822 0.2145212  0.25677025\n",
      " 0.25495312 0.24828848 1.201356   0.6754128  0.23839939 0.16535364\n",
      " 0.12885675 0.12885675 0.12885675 0.12885675 0.12885675 0.12885675\n",
      " 0.12885675 0.12885675 0.12885675 0.12885675 0.12885675 0.12885675]\n",
      "Validation Data Eval:\n",
      "accuracy: 0.87500\n",
      "Step 311: 8.988 sec\n",
      "Step 312: 8.322 sec\n",
      "Step 313: 9.419 sec\n",
      "Step 314: 10.066 sec\n",
      "Step 315: 8.399 sec\n",
      "Step 316: 9.522 sec\n",
      "Step 317: 10.008 sec\n",
      "Step 318: 9.368 sec\n",
      "Step 319: 9.463 sec\n",
      "Step 320: 9.017 sec\n",
      "Training Data Eval:\n",
      "accuracy: 1.00000\n",
      " Loss :  [0.11078622 0.11216453 0.13348304 0.15476972 0.1763255  0.21857087\n",
      " 0.21674566 0.21007952 1.1625549  0.6365733  0.20016362 0.12694891\n",
      " 0.09065437 0.09065437 0.09065437 0.09065437 0.09065437 0.09065437\n",
      " 0.09065437 0.09065437 0.09065437 0.09065437 0.09065437 0.09065437]\n",
      "Validation Data Eval:\n",
      "accuracy: 0.81250\n",
      "Step 321: 8.879 sec\n",
      "Step 322: 8.477 sec\n",
      "Step 323: 8.893 sec\n",
      "Step 324: 8.957 sec\n",
      "Step 325: 8.977 sec\n",
      "Step 326: 9.377 sec\n",
      "Step 327: 8.319 sec\n",
      "Step 328: 9.365 sec\n",
      "Step 329: 8.304 sec\n",
      "Step 330: 9.303 sec\n",
      "Training Data Eval:\n",
      "accuracy: 0.93750\n",
      " Loss :  [0.2040318  0.20541528 0.22673246 0.24801876 0.26957384 0.31181464\n",
      " 0.3099812  0.3033147  1.2552282  0.729221   0.2933752  0.21992803\n",
      " 0.18389931 0.18389931 0.18389931 0.18389931 0.18389931 0.18389931\n",
      " 0.18389931 0.18389931 0.18389931 0.18389931 0.18389931 0.18389931]\n",
      "Validation Data Eval:\n",
      "accuracy: 0.87500\n",
      "Step 331: 8.348 sec\n",
      "Step 332: 9.810 sec\n",
      "Step 333: 9.419 sec\n",
      "Step 334: 8.790 sec\n",
      "Step 335: 9.822 sec\n",
      "Step 336: 9.330 sec\n",
      "Step 337: 9.910 sec\n",
      "Step 338: 8.248 sec\n",
      "Step 339: 7.758 sec\n",
      "Step 340: 8.788 sec\n",
      "Training Data Eval:\n",
      "accuracy: 0.93750\n",
      " Loss :  [0.17993881 0.18132408 0.20264466 0.22392923 0.24548936 0.28772712\n",
      " 0.28588343 0.27921823 1.230611   0.7045733  0.2692507  0.1955477\n",
      " 0.15980543 0.15980543 0.15980543 0.15980543 0.15980543 0.15980543\n",
      " 0.15980543 0.15980543 0.15980543 0.15980543 0.15980543 0.15980543]\n",
      "Validation Data Eval:\n",
      "accuracy: 0.93750\n",
      "Step 341: 10.408 sec\n",
      "Step 342: 9.980 sec\n",
      "Step 343: 10.377 sec\n",
      "Step 344: 9.805 sec\n",
      "Step 345: 8.836 sec\n",
      "Step 346: 9.294 sec\n",
      "Step 347: 8.785 sec\n",
      "Step 348: 8.276 sec\n",
      "Step 349: 7.119 sec\n",
      "Step 350: 8.783 sec\n",
      "Training Data Eval:\n",
      "accuracy: 1.00000\n",
      " Loss :  [0.02157969 0.02296791 0.04429165 0.06557517 0.08714195 0.12937555\n",
      " 0.1275218  0.12085825 1.0717449  0.54569113 0.11086226 0.03689529\n",
      " 0.00144597 0.00144597 0.00144597 0.00144597 0.00144597 0.00144597\n",
      " 0.00144597 0.00144597 0.00144597 0.00144597 0.00144597 0.00144597]\n",
      "Validation Data Eval:\n",
      "accuracy: 0.75000\n",
      "Step 351: 9.433 sec\n",
      "Step 352: 10.406 sec\n",
      "Step 353: 9.299 sec\n",
      "Step 354: 9.870 sec\n",
      "Step 355: 9.841 sec\n",
      "Step 356: 8.904 sec\n",
      "Step 357: 8.774 sec\n",
      "Step 358: 9.906 sec\n",
      "Step 359: 8.396 sec\n",
      "Step 360: 8.800 sec\n",
      "Training Data Eval:\n",
      "accuracy: 0.93750\n",
      " Loss :  [0.16338459 0.16477674 0.18610281 0.20738351 0.22895774 0.27118543\n",
      " 0.26932073 0.26265585 1.2130152  0.68698937 0.25263843 0.17840524\n",
      " 0.14325108 0.14325108 0.14325108 0.14325108 0.14325108 0.14325108\n",
      " 0.14325108 0.14325108 0.14325108 0.14325108 0.14325108 0.14325108]\n",
      "Validation Data Eval:\n",
      "accuracy: 0.87500\n",
      "Step 361: 9.312 sec\n",
      "Step 362: 9.912 sec\n",
      "Step 363: 9.447 sec\n",
      "Step 364: 9.807 sec\n",
      "Step 365: 8.395 sec\n",
      "Step 366: 9.781 sec\n",
      "Step 367: 9.342 sec\n",
      "Step 368: 9.832 sec\n",
      "Step 369: 10.427 sec\n",
      "Step 370: 9.467 sec\n",
      "Training Data Eval:\n",
      "accuracy: 1.00000\n",
      " Loss :  [0.02644528 0.0278418  0.04916925 0.0704482  0.09202516 0.13424766\n",
      " 0.13237244 0.12570524 1.0755469  0.5495672  0.11567242 0.0412065\n",
      " 0.00631182 0.00631182 0.00631182 0.00631182 0.00631182 0.00631182\n",
      " 0.00631182 0.00631182 0.00631182 0.00631182 0.00631182 0.00631182]\n",
      "Validation Data Eval:\n",
      "accuracy: 0.87500\n",
      "Step 371: 9.905 sec\n",
      "Step 372: 8.209 sec\n",
      "Step 373: 8.762 sec\n",
      "Step 374: 8.977 sec\n",
      "Step 375: 9.907 sec\n",
      "Step 376: 8.801 sec\n",
      "Step 377: 9.967 sec\n",
      "Step 378: 9.858 sec\n",
      "Step 379: 8.278 sec\n",
      "Step 380: 7.210 sec\n",
      "Training Data Eval:\n",
      "accuracy: 1.00000\n",
      " Loss :  [0.06069416 0.06209343 0.08342497 0.10470156 0.12628828 0.16850889\n",
      " 0.16661675 0.15994334 1.1092819  0.58335704 0.14989775 0.07521783\n",
      " 0.04056157 0.04056157 0.04056157 0.04056157 0.04056157 0.04056157\n",
      " 0.04056157 0.04056157 0.04056157 0.04056157 0.04056157 0.04056157]\n",
      "Validation Data Eval:\n",
      "accuracy: 0.93750\n",
      "Step 381: 7.772 sec\n",
      "Step 382: 7.823 sec\n",
      "Step 383: 8.370 sec\n",
      "Step 384: 9.854 sec\n",
      "Step 385: 9.859 sec\n",
      "Step 386: 8.792 sec\n",
      "Step 387: 9.823 sec\n",
      "Step 388: 8.223 sec\n",
      "Step 389: 8.810 sec\n",
      "Step 390: 9.824 sec\n",
      "Training Data Eval:\n",
      "accuracy: 0.93750\n",
      " Loss :  [0.14211154 0.14352164 0.16485086 0.18612926 0.2077167  0.24993089\n",
      " 0.24801797 0.24134795 1.1901939  0.6643349  0.23128837 0.15638468\n",
      " 0.12197874 0.12197874 0.12197874 0.12197874 0.12197874 0.12197874\n",
      " 0.12197874 0.12197874 0.12197874 0.12197874 0.12197874 0.12197874]\n",
      "Validation Data Eval:\n",
      "accuracy: 0.87500\n",
      "Step 391: 8.846 sec\n",
      "Step 392: 9.860 sec\n",
      "Step 393: 10.315 sec\n",
      "Step 394: 10.392 sec\n",
      "Step 395: 9.379 sec\n",
      "Step 396: 9.844 sec\n",
      "Step 397: 9.427 sec\n",
      "Step 398: 8.797 sec\n",
      "Step 399: 8.704 sec\n",
      "Step 400: 9.895 sec\n",
      "Training Data Eval:\n",
      "accuracy: 0.93750\n",
      " Loss :  [0.13495763 0.13637742 0.15771301 0.17899212 0.20058832 0.24279588\n",
      " 0.24086078 0.23419172 1.1826086  0.6567792  0.22411187 0.14936383\n",
      " 0.11482425 0.11482425 0.11482425 0.11482425 0.11482425 0.11482425\n",
      " 0.11482425 0.11482425 0.11482425 0.11482425 0.11482425 0.11482425]\n",
      "Validation Data Eval:\n",
      "accuracy: 0.81250\n",
      "Step 401: 10.357 sec\n",
      "Step 402: 9.833 sec\n",
      "Step 403: 8.957 sec\n",
      "Step 404: 9.421 sec\n",
      "Step 405: 9.408 sec\n",
      "Step 406: 9.312 sec\n",
      "Step 407: 9.988 sec\n",
      "Step 408: 9.799 sec\n",
      "Step 409: 9.318 sec\n",
      "Step 410: 8.826 sec\n",
      "Training Data Eval:\n",
      "accuracy: 0.93750\n",
      " Loss :  [0.11135059 0.11277376 0.1341174  0.15539476 0.1770016  0.21920387\n",
      " 0.2172509  0.21057957 1.1585715  0.6327912  0.20048492 0.12582487\n",
      " 0.09121674 0.09121674 0.09121674 0.09121674 0.09121674 0.09121674\n",
      " 0.09121674 0.09121674 0.09121674 0.09121674 0.09121674 0.09121674]\n",
      "Validation Data Eval:\n",
      "accuracy: 0.62500\n",
      "Step 411: 9.826 sec\n",
      "Step 412: 9.334 sec\n",
      "Step 413: 8.761 sec\n",
      "Step 414: 8.223 sec\n",
      "Step 415: 9.359 sec\n",
      "Step 416: 8.830 sec\n",
      "Step 417: 9.904 sec\n",
      "Step 418: 9.295 sec\n",
      "Step 419: 9.348 sec\n",
      "Step 420: 10.414 sec\n",
      "Training Data Eval:\n",
      "accuracy: 1.00000\n",
      " Loss :  [0.0775925  0.07902014 0.10036357 0.12164031 0.14324892 0.18544438\n",
      " 0.1834742  0.17680442 1.124329   0.5986463  0.1667062  0.09191016\n",
      " 0.05745839 0.05745839 0.05745839 0.05745839 0.05745839 0.05745839\n",
      " 0.05745839 0.05745839 0.05745839 0.05745839 0.05745839 0.05745839]\n",
      "Validation Data Eval:\n",
      "accuracy: 0.87500\n",
      "Step 421: 9.840 sec\n",
      "Step 422: 9.860 sec\n",
      "Step 423: 9.408 sec\n",
      "Step 424: 9.338 sec\n",
      "Step 425: 9.849 sec\n",
      "Step 426: 6.718 sec\n",
      "Step 427: 8.381 sec\n",
      "Step 428: 8.808 sec\n",
      "Step 429: 8.787 sec\n",
      "Step 430: 8.275 sec\n",
      "Training Data Eval:\n",
      "accuracy: 0.87500\n",
      " Loss :  [0.18128186 0.18271387 0.20405862 0.22533497 0.24694861 0.2891389\n",
      " 0.28715527 0.2804839  1.2275724  0.7019756  0.27037793 0.1953863\n",
      " 0.16114742 0.16114742 0.16114742 0.16114742 0.16114742 0.16114742\n",
      " 0.16114742 0.16114742 0.16114742 0.16114742 0.16114742 0.16114742]\n",
      "Validation Data Eval:\n",
      "accuracy: 0.62500\n",
      "Step 431: 8.359 sec\n",
      "Step 432: 8.816 sec\n",
      "Step 433: 9.390 sec\n",
      "Step 434: 10.341 sec\n",
      "Step 435: 8.232 sec\n",
      "Step 436: 9.850 sec\n",
      "Step 437: 9.875 sec\n",
      "Step 438: 8.831 sec\n",
      "Step 439: 8.821 sec\n",
      "Step 440: 7.291 sec\n",
      "Training Data Eval:\n",
      "accuracy: 1.00000\n",
      " Loss :  [0.02856324 0.02999721 0.05134586 0.07262207 0.09424172 0.1364286\n",
      " 0.134435   0.12776211 1.0744126  0.5489099  0.11764458 0.04242934\n",
      " 0.00842884 0.00842884 0.00842884 0.00842884 0.00842884 0.00842884\n",
      " 0.00842884 0.00842884 0.00842884 0.00842884 0.00842884 0.00842884]\n",
      "Validation Data Eval:\n"
     ]
    },
    {
     "name": "stdout",
     "output_type": "stream",
     "text": [
      "accuracy: 1.00000\n",
      "Step 441: 8.931 sec\n",
      "Step 442: 8.788 sec\n",
      "Step 443: 9.862 sec\n",
      "Step 444: 7.209 sec\n",
      "Step 445: 10.423 sec\n",
      "Step 446: 8.877 sec\n",
      "Step 447: 10.356 sec\n",
      "Step 448: 9.858 sec\n",
      "Step 449: 8.368 sec\n",
      "Step 450: 9.364 sec\n",
      "Training Data Eval:\n",
      "accuracy: 1.00000\n",
      " Loss :  [0.02543365 0.02686812 0.04821877 0.0694917  0.09111537 0.13329472\n",
      " 0.13129652 0.12461978 1.0708014  0.5454321  0.11449915 0.03903658\n",
      " 0.00529883 0.00529883 0.00529883 0.00529883 0.00529883 0.00529883\n",
      " 0.00529883 0.00529883 0.00529883 0.00529883 0.00529883 0.00529883]\n",
      "Validation Data Eval:\n",
      "accuracy: 0.75000\n",
      "Step 451: 9.311 sec\n",
      "Step 452: 9.920 sec\n",
      "Step 453: 9.820 sec\n",
      "Step 454: 9.824 sec\n",
      "Step 455: 8.784 sec\n",
      "Step 456: 8.400 sec\n",
      "Step 457: 10.385 sec\n",
      "Step 458: 8.874 sec\n",
      "Step 459: 7.857 sec\n",
      "Step 460: 9.284 sec\n",
      "Training Data Eval:\n",
      "accuracy: 1.00000\n",
      " Loss :  [0.03270189 0.03414052 0.05549087 0.07675762 0.09838207 0.1405499\n",
      " 0.1385453  0.13186343 1.0775431  0.5523466  0.12174927 0.04603523\n",
      " 0.01256733 0.01256733 0.01256733 0.01256733 0.01256733 0.01256733\n",
      " 0.01256733 0.01256733 0.01256733 0.01256733 0.01256733 0.01256733]\n",
      "Validation Data Eval:\n",
      "accuracy: 0.81250\n",
      "Step 461: 10.010 sec\n",
      "Step 462: 9.950 sec\n",
      "Step 463: 8.851 sec\n",
      "Step 464: 8.345 sec\n",
      "Step 465: 8.446 sec\n",
      "Step 466: 8.971 sec\n",
      "Step 467: 8.955 sec\n",
      "Step 468: 8.386 sec\n",
      "Step 469: 8.883 sec\n",
      "Step 470: 8.927 sec\n",
      "Training Data Eval:\n",
      "accuracy: 1.00000\n",
      " Loss :  [0.12970497 0.13115102 0.15250446 0.1737686  0.1953906  0.2375559\n",
      " 0.23553242 0.22885159 1.1740767  0.6490253  0.2187354  0.14278483\n",
      " 0.1095715  0.1095715  0.1095715  0.1095715  0.1095715  0.1095715\n",
      " 0.1095715  0.1095715  0.1095715  0.1095715  0.1095715  0.1095715 ]\n",
      "Validation Data Eval:\n",
      "accuracy: 0.68750\n",
      "Step 471: 8.881 sec\n",
      "Step 472: 9.947 sec\n",
      "Step 473: 8.418 sec\n",
      "Step 474: 9.440 sec\n",
      "Step 475: 7.391 sec\n",
      "Step 476: 8.251 sec\n",
      "Step 477: 8.812 sec\n",
      "Step 478: 9.907 sec\n",
      "Step 479: 8.432 sec\n",
      "Step 480: 9.365 sec\n",
      "Training Data Eval:\n",
      "accuracy: 1.00000\n",
      " Loss :  [0.06604908 0.06750141 0.08886273 0.11012688 0.13175231 0.17392331\n",
      " 0.17187789 0.16519588 1.1100179  0.5850621  0.15506476 0.0791172\n",
      " 0.0459143  0.0459143  0.0459143  0.0459143  0.0459143  0.0459143\n",
      " 0.0459143  0.0459143  0.0459143  0.0459143  0.0459143  0.0459143 ]\n",
      "Validation Data Eval:\n",
      "accuracy: 0.75000\n",
      "Step 481: 8.887 sec\n",
      "Step 482: 10.390 sec\n",
      "Step 483: 9.891 sec\n",
      "Step 484: 9.449 sec\n",
      "Step 485: 9.475 sec\n",
      "Step 486: 8.859 sec\n",
      "Step 487: 9.351 sec\n",
      "Step 488: 9.981 sec\n",
      "Step 489: 10.418 sec\n",
      "Step 490: 9.413 sec\n",
      "Training Data Eval:\n",
      "accuracy: 1.00000\n",
      " Loss :  [0.04414454 0.04559855 0.06697162 0.08823305 0.10986275 0.15203628\n",
      " 0.1499829  0.14329967 1.0877062  0.56285405 0.13314621 0.05709167\n",
      " 0.02400892 0.02400892 0.02400892 0.02400892 0.02400892 0.02400892\n",
      " 0.02400892 0.02400892 0.02400892 0.02400892 0.02400892 0.02400892]\n",
      "Validation Data Eval:\n",
      "accuracy: 0.75000\n",
      "Step 491: 8.327 sec\n",
      "Step 492: 9.905 sec\n",
      "Step 493: 8.905 sec\n",
      "Step 494: 9.964 sec\n",
      "Step 495: 8.888 sec\n",
      "Step 496: 9.474 sec\n",
      "Step 497: 8.902 sec\n",
      "Step 498: 9.453 sec\n",
      "Step 499: 9.986 sec\n",
      "Training Data Eval:\n",
      "accuracy: 1.00000\n",
      " Loss :  [0.0485332  0.04998918 0.07136926 0.09262547 0.11425732 0.15642539\n",
      " 0.15436614 0.147686   1.0917052  0.5669701  0.13752265 0.06128927\n",
      " 0.02839741 0.02839741 0.02839741 0.02839741 0.02839741 0.02839741\n",
      " 0.02839741 0.02839741 0.02839741 0.02839741 0.02839741 0.02839741]\n",
      "Validation Data Eval:\n",
      "accuracy: 0.93750\n",
      "<tensorflow.python.summary.writer.writer.FileWriter object at 0x000001EBABD15780>\n",
      "done\n"
     ]
    }
   ],
   "source": [
    "%run train_c3d_ucf101.py"
   ]
  },
  {
   "cell_type": "code",
   "execution_count": 1,
   "metadata": {},
   "outputs": [
    {
     "name": "stderr",
     "output_type": "stream",
     "text": [
      "C:\\Users\\mathi\\Anaconda3\\lib\\site-packages\\tensorflow\\python\\framework\\dtypes.py:523: FutureWarning: Passing (type, 1) or '1type' as a synonym of type is deprecated; in a future version of numpy, it will be understood as (type, (1,)) / '(1,)type'.\n",
      "  _np_qint8 = np.dtype([(\"qint8\", np.int8, 1)])\n",
      "C:\\Users\\mathi\\Anaconda3\\lib\\site-packages\\tensorflow\\python\\framework\\dtypes.py:524: FutureWarning: Passing (type, 1) or '1type' as a synonym of type is deprecated; in a future version of numpy, it will be understood as (type, (1,)) / '(1,)type'.\n",
      "  _np_quint8 = np.dtype([(\"quint8\", np.uint8, 1)])\n",
      "C:\\Users\\mathi\\Anaconda3\\lib\\site-packages\\tensorflow\\python\\framework\\dtypes.py:525: FutureWarning: Passing (type, 1) or '1type' as a synonym of type is deprecated; in a future version of numpy, it will be understood as (type, (1,)) / '(1,)type'.\n",
      "  _np_qint16 = np.dtype([(\"qint16\", np.int16, 1)])\n",
      "C:\\Users\\mathi\\Anaconda3\\lib\\site-packages\\tensorflow\\python\\framework\\dtypes.py:526: FutureWarning: Passing (type, 1) or '1type' as a synonym of type is deprecated; in a future version of numpy, it will be understood as (type, (1,)) / '(1,)type'.\n",
      "  _np_quint16 = np.dtype([(\"quint16\", np.uint16, 1)])\n",
      "C:\\Users\\mathi\\Anaconda3\\lib\\site-packages\\tensorflow\\python\\framework\\dtypes.py:527: FutureWarning: Passing (type, 1) or '1type' as a synonym of type is deprecated; in a future version of numpy, it will be understood as (type, (1,)) / '(1,)type'.\n",
      "  _np_qint32 = np.dtype([(\"qint32\", np.int32, 1)])\n",
      "C:\\Users\\mathi\\Anaconda3\\lib\\site-packages\\tensorflow\\python\\framework\\dtypes.py:532: FutureWarning: Passing (type, 1) or '1type' as a synonym of type is deprecated; in a future version of numpy, it will be understood as (type, (1,)) / '(1,)type'.\n",
      "  np_resource = np.dtype([(\"resource\", np.ubyte, 1)])\n"
     ]
    },
    {
     "name": "stdout",
     "output_type": "stream",
     "text": [
      "Number of test videos=620\n",
      "done\n",
      "INFO:tensorflow:Restoring parameters from models/c3d_rvl_model.ckpt-499\n",
      "done\n"
     ]
    }
   ],
   "source": [
    "%run predict_c3d_ucf101.py"
   ]
  },
  {
   "cell_type": "code",
   "execution_count": 1,
   "metadata": {},
   "outputs": [
    {
     "name": "stderr",
     "output_type": "stream",
     "text": [
      "C:\\Users\\mathi\\Anaconda3\\lib\\site-packages\\tensorflow\\python\\framework\\dtypes.py:523: FutureWarning: Passing (type, 1) or '1type' as a synonym of type is deprecated; in a future version of numpy, it will be understood as (type, (1,)) / '(1,)type'.\n",
      "  _np_qint8 = np.dtype([(\"qint8\", np.int8, 1)])\n",
      "C:\\Users\\mathi\\Anaconda3\\lib\\site-packages\\tensorflow\\python\\framework\\dtypes.py:524: FutureWarning: Passing (type, 1) or '1type' as a synonym of type is deprecated; in a future version of numpy, it will be understood as (type, (1,)) / '(1,)type'.\n",
      "  _np_quint8 = np.dtype([(\"quint8\", np.uint8, 1)])\n",
      "C:\\Users\\mathi\\Anaconda3\\lib\\site-packages\\tensorflow\\python\\framework\\dtypes.py:525: FutureWarning: Passing (type, 1) or '1type' as a synonym of type is deprecated; in a future version of numpy, it will be understood as (type, (1,)) / '(1,)type'.\n",
      "  _np_qint16 = np.dtype([(\"qint16\", np.int16, 1)])\n",
      "C:\\Users\\mathi\\Anaconda3\\lib\\site-packages\\tensorflow\\python\\framework\\dtypes.py:526: FutureWarning: Passing (type, 1) or '1type' as a synonym of type is deprecated; in a future version of numpy, it will be understood as (type, (1,)) / '(1,)type'.\n",
      "  _np_quint16 = np.dtype([(\"quint16\", np.uint16, 1)])\n",
      "C:\\Users\\mathi\\Anaconda3\\lib\\site-packages\\tensorflow\\python\\framework\\dtypes.py:527: FutureWarning: Passing (type, 1) or '1type' as a synonym of type is deprecated; in a future version of numpy, it will be understood as (type, (1,)) / '(1,)type'.\n",
      "  _np_qint32 = np.dtype([(\"qint32\", np.int32, 1)])\n",
      "C:\\Users\\mathi\\Anaconda3\\lib\\site-packages\\tensorflow\\python\\framework\\dtypes.py:532: FutureWarning: Passing (type, 1) or '1type' as a synonym of type is deprecated; in a future version of numpy, it will be understood as (type, (1,)) / '(1,)type'.\n",
      "  np_resource = np.dtype([(\"resource\", np.ubyte, 1)])\n"
     ]
    },
    {
     "name": "stdout",
     "output_type": "stream",
     "text": [
      "total_para: 70160139\n",
      "[<tf.Variable 'var_name/wc1:0' shape=(3, 3, 3, 3, 64) dtype=float32_ref>, <tf.Variable 'var_name/bc1:0' shape=(64,) dtype=float32_ref>]\n",
      "INFO:tensorflow:Restoring parameters from models/c3d_rvl_model.ckpt-199\n"
     ]
    },
    {
     "name": "stderr",
     "output_type": "stream",
     "text": [
      "\r",
      "  0%|          | 0/140 [00:00<?, ?it/s]"
     ]
    },
    {
     "name": "stdout",
     "output_type": "stream",
     "text": [
      "Model Loading Done!\n"
     ]
    },
    {
     "name": "stderr",
     "output_type": "stream",
     "text": [
      "\r",
      "  1%|          | 1/140 [00:10<23:10, 10.00s/it]"
     ]
    },
    {
     "name": "stdout",
     "output_type": "stream",
     "text": [
      "test acc: 0.0 test_correct_num: 0 total_v: 16.0 total_loss: Tensor(\"add:0\", shape=(), dtype=float32)\n"
     ]
    },
    {
     "name": "stderr",
     "output_type": "stream",
     "text": [
      "\r",
      "  1%|▏         | 2/140 [00:18<21:26,  9.33s/it]"
     ]
    },
    {
     "name": "stdout",
     "output_type": "stream",
     "text": [
      "test acc: 0.0 test_correct_num: 0 total_v: 32.0 total_loss: Tensor(\"add:0\", shape=(), dtype=float32)\n"
     ]
    },
    {
     "name": "stderr",
     "output_type": "stream",
     "text": [
      "\r",
      "  2%|▏         | 3/140 [00:28<21:20,  9.34s/it]"
     ]
    },
    {
     "name": "stdout",
     "output_type": "stream",
     "text": [
      "test acc: 0.0 test_correct_num: 0 total_v: 48.0 total_loss: Tensor(\"add:0\", shape=(), dtype=float32)\n"
     ]
    },
    {
     "name": "stderr",
     "output_type": "stream",
     "text": [
      "\r",
      "  3%|▎         | 4/140 [00:35<19:26,  8.57s/it]"
     ]
    },
    {
     "name": "stdout",
     "output_type": "stream",
     "text": [
      "test acc: 0.0 test_correct_num: 0 total_v: 64.0 total_loss: Tensor(\"add:0\", shape=(), dtype=float32)\n"
     ]
    },
    {
     "name": "stderr",
     "output_type": "stream",
     "text": [
      "\r",
      "  4%|▎         | 5/140 [00:43<18:39,  8.30s/it]"
     ]
    },
    {
     "name": "stdout",
     "output_type": "stream",
     "text": [
      "test acc: 0.0 test_correct_num: 0 total_v: 80.0 total_loss: Tensor(\"add:0\", shape=(), dtype=float32)\n"
     ]
    },
    {
     "name": "stderr",
     "output_type": "stream",
     "text": [
      "\r",
      "  4%|▍         | 6/140 [00:53<19:45,  8.85s/it]"
     ]
    },
    {
     "name": "stdout",
     "output_type": "stream",
     "text": [
      "test acc: 0.0 test_correct_num: 0 total_v: 96.0 total_loss: Tensor(\"add:0\", shape=(), dtype=float32)\n"
     ]
    },
    {
     "name": "stderr",
     "output_type": "stream",
     "text": [
      "\r",
      "  5%|▌         | 7/140 [01:02<20:02,  9.04s/it]"
     ]
    },
    {
     "name": "stdout",
     "output_type": "stream",
     "text": [
      "test acc: 0.0 test_correct_num: 0 total_v: 112.0 total_loss: Tensor(\"add:0\", shape=(), dtype=float32)\n"
     ]
    },
    {
     "name": "stderr",
     "output_type": "stream",
     "text": [
      "\r",
      "  6%|▌         | 8/140 [01:11<19:27,  8.84s/it]"
     ]
    },
    {
     "name": "stdout",
     "output_type": "stream",
     "text": [
      "test acc: 0.0 test_correct_num: 0 total_v: 128.0 total_loss: Tensor(\"add:0\", shape=(), dtype=float32)\n"
     ]
    },
    {
     "name": "stderr",
     "output_type": "stream",
     "text": [
      "\r",
      "  6%|▋         | 9/140 [01:20<19:39,  9.00s/it]"
     ]
    },
    {
     "name": "stdout",
     "output_type": "stream",
     "text": [
      "test acc: 0.0 test_correct_num: 0 total_v: 144.0 total_loss: Tensor(\"add:0\", shape=(), dtype=float32)\n"
     ]
    },
    {
     "name": "stderr",
     "output_type": "stream",
     "text": [
      "\r",
      "  7%|▋         | 10/140 [01:29<19:21,  8.93s/it]"
     ]
    },
    {
     "name": "stdout",
     "output_type": "stream",
     "text": [
      "test acc: 0.0 test_correct_num: 0 total_v: 160.0 total_loss: Tensor(\"add:0\", shape=(), dtype=float32)\n"
     ]
    },
    {
     "name": "stderr",
     "output_type": "stream",
     "text": [
      "\r",
      "  8%|▊         | 11/140 [01:38<19:17,  8.97s/it]"
     ]
    },
    {
     "name": "stdout",
     "output_type": "stream",
     "text": [
      "test acc: 0.0 test_correct_num: 0 total_v: 176.0 total_loss: Tensor(\"add:0\", shape=(), dtype=float32)\n"
     ]
    },
    {
     "name": "stderr",
     "output_type": "stream",
     "text": [
      "\r",
      "  9%|▊         | 12/140 [01:47<19:02,  8.93s/it]"
     ]
    },
    {
     "name": "stdout",
     "output_type": "stream",
     "text": [
      "test acc: 0.0 test_correct_num: 0 total_v: 192.0 total_loss: Tensor(\"add:0\", shape=(), dtype=float32)\n"
     ]
    },
    {
     "name": "stderr",
     "output_type": "stream",
     "text": [
      "\r",
      "  9%|▉         | 13/140 [01:57<19:37,  9.27s/it]"
     ]
    },
    {
     "name": "stdout",
     "output_type": "stream",
     "text": [
      "test acc: 0.0 test_correct_num: 0 total_v: 208.0 total_loss: Tensor(\"add:0\", shape=(), dtype=float32)\n"
     ]
    },
    {
     "name": "stderr",
     "output_type": "stream",
     "text": [
      "\r",
      " 10%|█         | 14/140 [02:05<19:00,  9.05s/it]"
     ]
    },
    {
     "name": "stdout",
     "output_type": "stream",
     "text": [
      "test acc: 0.0 test_correct_num: 0 total_v: 224.0 total_loss: Tensor(\"add:0\", shape=(), dtype=float32)\n"
     ]
    },
    {
     "name": "stderr",
     "output_type": "stream",
     "text": [
      "\r",
      " 11%|█         | 15/140 [02:14<18:50,  9.04s/it]"
     ]
    },
    {
     "name": "stdout",
     "output_type": "stream",
     "text": [
      "test acc: 0.0 test_correct_num: 0 total_v: 240.0 total_loss: Tensor(\"add:0\", shape=(), dtype=float32)\n"
     ]
    },
    {
     "name": "stderr",
     "output_type": "stream",
     "text": [
      "\r",
      " 11%|█▏        | 16/140 [02:23<18:16,  8.84s/it]"
     ]
    },
    {
     "name": "stdout",
     "output_type": "stream",
     "text": [
      "test acc: 0.0 test_correct_num: 0 total_v: 256.0 total_loss: Tensor(\"add:0\", shape=(), dtype=float32)\n"
     ]
    },
    {
     "name": "stderr",
     "output_type": "stream",
     "text": [
      "\r",
      " 12%|█▏        | 17/140 [02:31<17:47,  8.68s/it]"
     ]
    },
    {
     "name": "stdout",
     "output_type": "stream",
     "text": [
      "test acc: 0.0 test_correct_num: 0 total_v: 272.0 total_loss: Tensor(\"add:0\", shape=(), dtype=float32)\n"
     ]
    },
    {
     "name": "stderr",
     "output_type": "stream",
     "text": [
      "\r",
      " 13%|█▎        | 18/140 [02:40<17:46,  8.74s/it]"
     ]
    },
    {
     "name": "stdout",
     "output_type": "stream",
     "text": [
      "test acc: 0.0 test_correct_num: 0 total_v: 288.0 total_loss: Tensor(\"add:0\", shape=(), dtype=float32)\n"
     ]
    },
    {
     "name": "stderr",
     "output_type": "stream",
     "text": [
      "\r",
      " 14%|█▎        | 19/140 [02:49<17:48,  8.83s/it]"
     ]
    },
    {
     "name": "stdout",
     "output_type": "stream",
     "text": [
      "test acc: 0.0 test_correct_num: 0 total_v: 304.0 total_loss: Tensor(\"add:0\", shape=(), dtype=float32)\n"
     ]
    },
    {
     "name": "stderr",
     "output_type": "stream",
     "text": [
      "\r",
      " 14%|█▍        | 20/140 [02:57<17:09,  8.58s/it]"
     ]
    },
    {
     "name": "stdout",
     "output_type": "stream",
     "text": [
      "test acc: 0.0 test_correct_num: 0 total_v: 320.0 total_loss: Tensor(\"add:0\", shape=(), dtype=float32)\n"
     ]
    },
    {
     "name": "stderr",
     "output_type": "stream",
     "text": [
      "\r",
      " 15%|█▌        | 21/140 [03:05<16:39,  8.40s/it]"
     ]
    },
    {
     "name": "stdout",
     "output_type": "stream",
     "text": [
      "test acc: 0.0 test_correct_num: 0 total_v: 336.0 total_loss: Tensor(\"add:0\", shape=(), dtype=float32)\n"
     ]
    },
    {
     "name": "stderr",
     "output_type": "stream",
     "text": [
      "\r",
      " 16%|█▌        | 22/140 [03:15<17:30,  8.90s/it]"
     ]
    },
    {
     "name": "stdout",
     "output_type": "stream",
     "text": [
      "test acc: 0.0 test_correct_num: 0 total_v: 352.0 total_loss: Tensor(\"add:0\", shape=(), dtype=float32)\n"
     ]
    },
    {
     "name": "stderr",
     "output_type": "stream",
     "text": [
      "\r",
      " 16%|█▋        | 23/140 [03:24<17:15,  8.85s/it]"
     ]
    },
    {
     "name": "stdout",
     "output_type": "stream",
     "text": [
      "test acc: 0.0 test_correct_num: 0 total_v: 368.0 total_loss: Tensor(\"add:0\", shape=(), dtype=float32)\n"
     ]
    },
    {
     "name": "stderr",
     "output_type": "stream",
     "text": [
      "\r",
      " 17%|█▋        | 24/140 [03:33<17:24,  9.00s/it]"
     ]
    },
    {
     "name": "stdout",
     "output_type": "stream",
     "text": [
      "test acc: 0.0 test_correct_num: 0 total_v: 384.0 total_loss: Tensor(\"add:0\", shape=(), dtype=float32)\n"
     ]
    },
    {
     "name": "stderr",
     "output_type": "stream",
     "text": [
      "\r",
      " 18%|█▊        | 25/140 [03:43<17:37,  9.19s/it]"
     ]
    },
    {
     "name": "stdout",
     "output_type": "stream",
     "text": [
      "test acc: 0.0 test_correct_num: 0 total_v: 400.0 total_loss: Tensor(\"add:0\", shape=(), dtype=float32)\n"
     ]
    },
    {
     "name": "stderr",
     "output_type": "stream",
     "text": [
      "\r",
      " 19%|█▊        | 26/140 [03:51<17:12,  9.05s/it]"
     ]
    },
    {
     "name": "stdout",
     "output_type": "stream",
     "text": [
      "test acc: 0.0 test_correct_num: 0 total_v: 416.0 total_loss: Tensor(\"add:0\", shape=(), dtype=float32)\n"
     ]
    },
    {
     "name": "stderr",
     "output_type": "stream",
     "text": [
      "\r",
      " 19%|█▉        | 27/140 [04:00<16:38,  8.84s/it]"
     ]
    },
    {
     "name": "stdout",
     "output_type": "stream",
     "text": [
      "test acc: 0.0 test_correct_num: 0 total_v: 432.0 total_loss: Tensor(\"add:0\", shape=(), dtype=float32)\n"
     ]
    },
    {
     "name": "stderr",
     "output_type": "stream",
     "text": [
      "\r",
      " 20%|██        | 28/140 [04:09<16:40,  8.93s/it]"
     ]
    },
    {
     "name": "stdout",
     "output_type": "stream",
     "text": [
      "test acc: 0.0 test_correct_num: 0 total_v: 448.0 total_loss: Tensor(\"add:0\", shape=(), dtype=float32)\n"
     ]
    },
    {
     "name": "stderr",
     "output_type": "stream",
     "text": [
      "\r",
      " 21%|██        | 29/140 [04:17<16:02,  8.67s/it]"
     ]
    },
    {
     "name": "stdout",
     "output_type": "stream",
     "text": [
      "test acc: 0.0 test_correct_num: 0 total_v: 464.0 total_loss: Tensor(\"add:0\", shape=(), dtype=float32)\n"
     ]
    },
    {
     "name": "stderr",
     "output_type": "stream",
     "text": [
      "\r",
      " 21%|██▏       | 30/140 [04:26<16:09,  8.81s/it]"
     ]
    },
    {
     "name": "stdout",
     "output_type": "stream",
     "text": [
      "test acc: 0.0 test_correct_num: 0 total_v: 480.0 total_loss: Tensor(\"add:0\", shape=(), dtype=float32)\n"
     ]
    },
    {
     "name": "stderr",
     "output_type": "stream",
     "text": [
      "\r",
      " 22%|██▏       | 31/140 [04:35<16:13,  8.93s/it]"
     ]
    },
    {
     "name": "stdout",
     "output_type": "stream",
     "text": [
      "test acc: 0.0 test_correct_num: 0 total_v: 496.0 total_loss: Tensor(\"add:0\", shape=(), dtype=float32)\n"
     ]
    },
    {
     "name": "stderr",
     "output_type": "stream",
     "text": [
      "\r",
      " 23%|██▎       | 32/140 [04:43<15:28,  8.60s/it]"
     ]
    },
    {
     "name": "stdout",
     "output_type": "stream",
     "text": [
      "test acc: 0.0 test_correct_num: 0 total_v: 512.0 total_loss: Tensor(\"add:0\", shape=(), dtype=float32)\n"
     ]
    },
    {
     "name": "stderr",
     "output_type": "stream",
     "text": [
      "\r",
      " 24%|██▎       | 33/140 [04:52<15:37,  8.77s/it]"
     ]
    },
    {
     "name": "stdout",
     "output_type": "stream",
     "text": [
      "test acc: 0.0 test_correct_num: 0 total_v: 528.0 total_loss: Tensor(\"add:0\", shape=(), dtype=float32)\n"
     ]
    },
    {
     "name": "stderr",
     "output_type": "stream",
     "text": [
      "\r",
      " 24%|██▍       | 34/140 [05:01<15:10,  8.59s/it]"
     ]
    },
    {
     "name": "stdout",
     "output_type": "stream",
     "text": [
      "test acc: 0.0 test_correct_num: 0 total_v: 544.0 total_loss: Tensor(\"add:0\", shape=(), dtype=float32)\n"
     ]
    },
    {
     "name": "stderr",
     "output_type": "stream",
     "text": [
      "\r",
      " 25%|██▌       | 35/140 [05:10<15:15,  8.72s/it]"
     ]
    },
    {
     "name": "stdout",
     "output_type": "stream",
     "text": [
      "test acc: 0.0 test_correct_num: 0 total_v: 560.0 total_loss: Tensor(\"add:0\", shape=(), dtype=float32)\n"
     ]
    },
    {
     "name": "stderr",
     "output_type": "stream",
     "text": [
      "\r",
      " 26%|██▌       | 36/140 [05:18<15:05,  8.70s/it]"
     ]
    },
    {
     "name": "stdout",
     "output_type": "stream",
     "text": [
      "test acc: 0.0 test_correct_num: 0 total_v: 576.0 total_loss: Tensor(\"add:0\", shape=(), dtype=float32)\n"
     ]
    },
    {
     "name": "stderr",
     "output_type": "stream",
     "text": [
      "\r",
      " 26%|██▋       | 37/140 [05:25<14:09,  8.25s/it]"
     ]
    },
    {
     "name": "stdout",
     "output_type": "stream",
     "text": [
      "test acc: 0.0 test_correct_num: 0 total_v: 592.0 total_loss: Tensor(\"add:0\", shape=(), dtype=float32)\n"
     ]
    },
    {
     "name": "stderr",
     "output_type": "stream",
     "text": [
      "\r",
      " 27%|██▋       | 38/140 [05:35<14:28,  8.52s/it]"
     ]
    },
    {
     "name": "stdout",
     "output_type": "stream",
     "text": [
      "test acc: 0.0 test_correct_num: 0 total_v: 608.0 total_loss: Tensor(\"add:0\", shape=(), dtype=float32)\n"
     ]
    },
    {
     "name": "stderr",
     "output_type": "stream",
     "text": [
      "\r",
      " 28%|██▊       | 39/140 [05:44<14:56,  8.88s/it]"
     ]
    },
    {
     "name": "stdout",
     "output_type": "stream",
     "text": [
      "test acc: 0.0 test_correct_num: 0 total_v: 624.0 total_loss: Tensor(\"add:0\", shape=(), dtype=float32)\n"
     ]
    },
    {
     "name": "stderr",
     "output_type": "stream",
     "text": [
      "\r",
      " 29%|██▊       | 40/140 [05:53<14:37,  8.78s/it]"
     ]
    },
    {
     "name": "stdout",
     "output_type": "stream",
     "text": [
      "test acc: 0.0 test_correct_num: 0 total_v: 640.0 total_loss: Tensor(\"add:0\", shape=(), dtype=float32)\n"
     ]
    },
    {
     "name": "stderr",
     "output_type": "stream",
     "text": [
      "\r",
      " 29%|██▉       | 41/140 [06:03<14:56,  9.06s/it]"
     ]
    },
    {
     "name": "stdout",
     "output_type": "stream",
     "text": [
      "test acc: 0.0 test_correct_num: 0 total_v: 656.0 total_loss: Tensor(\"add:0\", shape=(), dtype=float32)\n"
     ]
    },
    {
     "name": "stderr",
     "output_type": "stream",
     "text": [
      "\r",
      " 30%|███       | 42/140 [06:10<14:15,  8.73s/it]"
     ]
    },
    {
     "name": "stdout",
     "output_type": "stream",
     "text": [
      "test acc: 0.0 test_correct_num: 0 total_v: 672.0 total_loss: Tensor(\"add:0\", shape=(), dtype=float32)\n"
     ]
    },
    {
     "name": "stderr",
     "output_type": "stream",
     "text": [
      "\r",
      " 31%|███       | 43/140 [06:20<14:20,  8.87s/it]"
     ]
    },
    {
     "name": "stdout",
     "output_type": "stream",
     "text": [
      "test acc: 0.0 test_correct_num: 0 total_v: 688.0 total_loss: Tensor(\"add:0\", shape=(), dtype=float32)\n"
     ]
    },
    {
     "name": "stderr",
     "output_type": "stream",
     "text": [
      "\r",
      " 31%|███▏      | 44/140 [06:28<13:48,  8.63s/it]"
     ]
    },
    {
     "name": "stdout",
     "output_type": "stream",
     "text": [
      "test acc: 0.0 test_correct_num: 0 total_v: 704.0 total_loss: Tensor(\"add:0\", shape=(), dtype=float32)\n"
     ]
    },
    {
     "name": "stderr",
     "output_type": "stream",
     "text": [
      "\r",
      " 32%|███▏      | 45/140 [06:37<13:53,  8.77s/it]"
     ]
    },
    {
     "name": "stdout",
     "output_type": "stream",
     "text": [
      "test acc: 0.0 test_correct_num: 0 total_v: 720.0 total_loss: Tensor(\"add:0\", shape=(), dtype=float32)\n"
     ]
    },
    {
     "name": "stderr",
     "output_type": "stream",
     "text": [
      "\r",
      " 33%|███▎      | 46/140 [06:46<14:08,  9.03s/it]"
     ]
    },
    {
     "name": "stdout",
     "output_type": "stream",
     "text": [
      "test acc: 0.0 test_correct_num: 0 total_v: 736.0 total_loss: Tensor(\"add:0\", shape=(), dtype=float32)\n"
     ]
    },
    {
     "name": "stderr",
     "output_type": "stream",
     "text": [
      "\r",
      " 34%|███▎      | 47/140 [06:56<14:04,  9.08s/it]"
     ]
    },
    {
     "name": "stdout",
     "output_type": "stream",
     "text": [
      "test acc: 0.0 test_correct_num: 0 total_v: 752.0 total_loss: Tensor(\"add:0\", shape=(), dtype=float32)\n"
     ]
    },
    {
     "name": "stderr",
     "output_type": "stream",
     "text": [
      "\r",
      " 34%|███▍      | 48/140 [07:05<14:10,  9.25s/it]"
     ]
    },
    {
     "name": "stdout",
     "output_type": "stream",
     "text": [
      "test acc: 0.0 test_correct_num: 0 total_v: 768.0 total_loss: Tensor(\"add:0\", shape=(), dtype=float32)\n"
     ]
    },
    {
     "name": "stderr",
     "output_type": "stream",
     "text": [
      "\r",
      " 35%|███▌      | 49/140 [07:14<13:58,  9.21s/it]"
     ]
    },
    {
     "name": "stdout",
     "output_type": "stream",
     "text": [
      "test acc: 0.0 test_correct_num: 0 total_v: 784.0 total_loss: Tensor(\"add:0\", shape=(), dtype=float32)\n"
     ]
    },
    {
     "name": "stderr",
     "output_type": "stream",
     "text": [
      "\r",
      " 36%|███▌      | 50/140 [07:24<13:48,  9.21s/it]"
     ]
    },
    {
     "name": "stdout",
     "output_type": "stream",
     "text": [
      "test acc: 0.0 test_correct_num: 0 total_v: 800.0 total_loss: Tensor(\"add:0\", shape=(), dtype=float32)\n"
     ]
    },
    {
     "name": "stderr",
     "output_type": "stream",
     "text": [
      "\r",
      " 36%|███▋      | 51/140 [07:34<14:05,  9.50s/it]"
     ]
    },
    {
     "name": "stdout",
     "output_type": "stream",
     "text": [
      "test acc: 0.0 test_correct_num: 0 total_v: 816.0 total_loss: Tensor(\"add:0\", shape=(), dtype=float32)\n"
     ]
    },
    {
     "name": "stderr",
     "output_type": "stream",
     "text": [
      "\r",
      " 37%|███▋      | 52/140 [07:44<14:12,  9.69s/it]"
     ]
    },
    {
     "name": "stdout",
     "output_type": "stream",
     "text": [
      "test acc: 0.0 test_correct_num: 0 total_v: 832.0 total_loss: Tensor(\"add:0\", shape=(), dtype=float32)\n"
     ]
    },
    {
     "name": "stderr",
     "output_type": "stream",
     "text": [
      "\r",
      " 38%|███▊      | 53/140 [07:53<13:51,  9.56s/it]"
     ]
    },
    {
     "name": "stdout",
     "output_type": "stream",
     "text": [
      "test acc: 0.0 test_correct_num: 0 total_v: 848.0 total_loss: Tensor(\"add:0\", shape=(), dtype=float32)\n"
     ]
    },
    {
     "name": "stderr",
     "output_type": "stream",
     "text": [
      "\r",
      " 39%|███▊      | 54/140 [08:01<13:04,  9.12s/it]"
     ]
    },
    {
     "name": "stdout",
     "output_type": "stream",
     "text": [
      "test acc: 0.0 test_correct_num: 0 total_v: 864.0 total_loss: Tensor(\"add:0\", shape=(), dtype=float32)\n"
     ]
    },
    {
     "name": "stderr",
     "output_type": "stream",
     "text": [
      "\r",
      " 39%|███▉      | 55/140 [08:10<12:56,  9.14s/it]"
     ]
    },
    {
     "name": "stdout",
     "output_type": "stream",
     "text": [
      "test acc: 0.0 test_correct_num: 0 total_v: 880.0 total_loss: Tensor(\"add:0\", shape=(), dtype=float32)\n"
     ]
    },
    {
     "name": "stderr",
     "output_type": "stream",
     "text": [
      "\r",
      " 40%|████      | 56/140 [08:20<12:58,  9.27s/it]"
     ]
    },
    {
     "name": "stdout",
     "output_type": "stream",
     "text": [
      "test acc: 0.0 test_correct_num: 0 total_v: 896.0 total_loss: Tensor(\"add:0\", shape=(), dtype=float32)\n"
     ]
    },
    {
     "name": "stderr",
     "output_type": "stream",
     "text": [
      "\r",
      " 41%|████      | 57/140 [08:30<13:00,  9.40s/it]"
     ]
    },
    {
     "name": "stdout",
     "output_type": "stream",
     "text": [
      "test acc: 0.0 test_correct_num: 0 total_v: 912.0 total_loss: Tensor(\"add:0\", shape=(), dtype=float32)\n"
     ]
    },
    {
     "name": "stderr",
     "output_type": "stream",
     "text": [
      "\r",
      " 41%|████▏     | 58/140 [08:38<12:30,  9.16s/it]"
     ]
    },
    {
     "name": "stdout",
     "output_type": "stream",
     "text": [
      "test acc: 0.0 test_correct_num: 0 total_v: 928.0 total_loss: Tensor(\"add:0\", shape=(), dtype=float32)\n"
     ]
    },
    {
     "name": "stderr",
     "output_type": "stream",
     "text": [
      "\r",
      " 42%|████▏     | 59/140 [08:47<12:19,  9.13s/it]"
     ]
    },
    {
     "name": "stdout",
     "output_type": "stream",
     "text": [
      "test acc: 0.0 test_correct_num: 0 total_v: 944.0 total_loss: Tensor(\"add:0\", shape=(), dtype=float32)\n"
     ]
    },
    {
     "name": "stderr",
     "output_type": "stream",
     "text": [
      "\r",
      " 43%|████▎     | 60/140 [08:56<11:45,  8.82s/it]"
     ]
    },
    {
     "name": "stdout",
     "output_type": "stream",
     "text": [
      "test acc: 0.0 test_correct_num: 0 total_v: 960.0 total_loss: Tensor(\"add:0\", shape=(), dtype=float32)\n"
     ]
    },
    {
     "name": "stderr",
     "output_type": "stream",
     "text": [
      "\r",
      " 44%|████▎     | 61/140 [09:05<11:46,  8.94s/it]"
     ]
    },
    {
     "name": "stdout",
     "output_type": "stream",
     "text": [
      "test acc: 0.0 test_correct_num: 0 total_v: 976.0 total_loss: Tensor(\"add:0\", shape=(), dtype=float32)\n"
     ]
    },
    {
     "name": "stderr",
     "output_type": "stream",
     "text": [
      "\r",
      " 44%|████▍     | 62/140 [09:14<11:45,  9.05s/it]"
     ]
    },
    {
     "name": "stdout",
     "output_type": "stream",
     "text": [
      "test acc: 0.0 test_correct_num: 0 total_v: 992.0 total_loss: Tensor(\"add:0\", shape=(), dtype=float32)\n"
     ]
    },
    {
     "name": "stderr",
     "output_type": "stream",
     "text": [
      "\r",
      " 45%|████▌     | 63/140 [09:23<11:28,  8.94s/it]"
     ]
    },
    {
     "name": "stdout",
     "output_type": "stream",
     "text": [
      "test acc: 0.0 test_correct_num: 0 total_v: 1008.0 total_loss: Tensor(\"add:0\", shape=(), dtype=float32)\n"
     ]
    },
    {
     "name": "stderr",
     "output_type": "stream",
     "text": [
      "\r",
      " 46%|████▌     | 64/140 [09:31<11:10,  8.82s/it]"
     ]
    },
    {
     "name": "stdout",
     "output_type": "stream",
     "text": [
      "test acc: 0.0 test_correct_num: 0 total_v: 1024.0 total_loss: Tensor(\"add:0\", shape=(), dtype=float32)\n"
     ]
    },
    {
     "name": "stderr",
     "output_type": "stream",
     "text": [
      "\r",
      " 46%|████▋     | 65/140 [09:40<10:54,  8.72s/it]"
     ]
    },
    {
     "name": "stdout",
     "output_type": "stream",
     "text": [
      "test acc: 0.0 test_correct_num: 0 total_v: 1040.0 total_loss: Tensor(\"add:0\", shape=(), dtype=float32)\n"
     ]
    },
    {
     "name": "stderr",
     "output_type": "stream",
     "text": [
      "\r",
      " 47%|████▋     | 66/140 [09:49<10:46,  8.74s/it]"
     ]
    },
    {
     "name": "stdout",
     "output_type": "stream",
     "text": [
      "test acc: 0.0 test_correct_num: 0 total_v: 1056.0 total_loss: Tensor(\"add:0\", shape=(), dtype=float32)\n"
     ]
    },
    {
     "name": "stderr",
     "output_type": "stream",
     "text": [
      "\r",
      " 48%|████▊     | 67/140 [09:57<10:33,  8.68s/it]"
     ]
    },
    {
     "name": "stdout",
     "output_type": "stream",
     "text": [
      "test acc: 0.0 test_correct_num: 0 total_v: 1072.0 total_loss: Tensor(\"add:0\", shape=(), dtype=float32)\n"
     ]
    },
    {
     "name": "stderr",
     "output_type": "stream",
     "text": [
      "\r",
      " 49%|████▊     | 68/140 [10:06<10:24,  8.68s/it]"
     ]
    },
    {
     "name": "stdout",
     "output_type": "stream",
     "text": [
      "test acc: 0.0 test_correct_num: 0 total_v: 1088.0 total_loss: Tensor(\"add:0\", shape=(), dtype=float32)\n"
     ]
    },
    {
     "name": "stderr",
     "output_type": "stream",
     "text": [
      "\r",
      " 49%|████▉     | 69/140 [10:15<10:35,  8.96s/it]"
     ]
    },
    {
     "name": "stdout",
     "output_type": "stream",
     "text": [
      "test acc: 0.0 test_correct_num: 0 total_v: 1104.0 total_loss: Tensor(\"add:0\", shape=(), dtype=float32)\n"
     ]
    },
    {
     "name": "stderr",
     "output_type": "stream",
     "text": [
      "\r",
      " 50%|█████     | 70/140 [10:24<10:17,  8.82s/it]"
     ]
    },
    {
     "name": "stdout",
     "output_type": "stream",
     "text": [
      "test acc: 0.0 test_correct_num: 0 total_v: 1120.0 total_loss: Tensor(\"add:0\", shape=(), dtype=float32)\n"
     ]
    },
    {
     "name": "stderr",
     "output_type": "stream",
     "text": [
      "\r",
      " 51%|█████     | 71/140 [10:32<09:53,  8.60s/it]"
     ]
    },
    {
     "name": "stdout",
     "output_type": "stream",
     "text": [
      "test acc: 0.0 test_correct_num: 0 total_v: 1136.0 total_loss: Tensor(\"add:0\", shape=(), dtype=float32)\n"
     ]
    },
    {
     "name": "stderr",
     "output_type": "stream",
     "text": [
      "\r",
      " 51%|█████▏    | 72/140 [10:41<09:54,  8.75s/it]"
     ]
    },
    {
     "name": "stdout",
     "output_type": "stream",
     "text": [
      "test acc: 0.0 test_correct_num: 0 total_v: 1152.0 total_loss: Tensor(\"add:0\", shape=(), dtype=float32)\n"
     ]
    },
    {
     "name": "stderr",
     "output_type": "stream",
     "text": [
      "\r",
      " 52%|█████▏    | 73/140 [10:49<09:33,  8.55s/it]"
     ]
    },
    {
     "name": "stdout",
     "output_type": "stream",
     "text": [
      "test acc: 0.0 test_correct_num: 0 total_v: 1168.0 total_loss: Tensor(\"add:0\", shape=(), dtype=float32)\n"
     ]
    },
    {
     "name": "stderr",
     "output_type": "stream",
     "text": [
      "\r",
      " 53%|█████▎    | 74/140 [10:59<09:45,  8.88s/it]"
     ]
    },
    {
     "name": "stdout",
     "output_type": "stream",
     "text": [
      "test acc: 0.0 test_correct_num: 0 total_v: 1184.0 total_loss: Tensor(\"add:0\", shape=(), dtype=float32)\n"
     ]
    },
    {
     "name": "stderr",
     "output_type": "stream",
     "text": [
      "\r",
      " 54%|█████▎    | 75/140 [11:08<09:42,  8.96s/it]"
     ]
    },
    {
     "name": "stdout",
     "output_type": "stream",
     "text": [
      "test acc: 0.0 test_correct_num: 0 total_v: 1200.0 total_loss: Tensor(\"add:0\", shape=(), dtype=float32)\n"
     ]
    },
    {
     "name": "stderr",
     "output_type": "stream",
     "text": [
      "\r",
      " 54%|█████▍    | 76/140 [11:17<09:44,  9.14s/it]"
     ]
    },
    {
     "name": "stdout",
     "output_type": "stream",
     "text": [
      "test acc: 0.0 test_correct_num: 0 total_v: 1216.0 total_loss: Tensor(\"add:0\", shape=(), dtype=float32)\n"
     ]
    },
    {
     "name": "stderr",
     "output_type": "stream",
     "text": [
      "\r",
      " 55%|█████▌    | 77/140 [11:25<09:05,  8.66s/it]"
     ]
    },
    {
     "name": "stdout",
     "output_type": "stream",
     "text": [
      "test acc: 0.0 test_correct_num: 0 total_v: 1232.0 total_loss: Tensor(\"add:0\", shape=(), dtype=float32)\n"
     ]
    },
    {
     "name": "stderr",
     "output_type": "stream",
     "text": [
      "\r",
      " 56%|█████▌    | 78/140 [11:34<09:06,  8.81s/it]"
     ]
    },
    {
     "name": "stdout",
     "output_type": "stream",
     "text": [
      "test acc: 0.0 test_correct_num: 0 total_v: 1248.0 total_loss: Tensor(\"add:0\", shape=(), dtype=float32)\n"
     ]
    },
    {
     "name": "stderr",
     "output_type": "stream",
     "text": [
      "\r",
      " 56%|█████▋    | 79/140 [11:45<09:26,  9.29s/it]"
     ]
    },
    {
     "name": "stdout",
     "output_type": "stream",
     "text": [
      "test acc: 0.0 test_correct_num: 0 total_v: 1264.0 total_loss: Tensor(\"add:0\", shape=(), dtype=float32)\n"
     ]
    },
    {
     "name": "stderr",
     "output_type": "stream",
     "text": [
      "\r",
      " 57%|█████▋    | 80/140 [11:53<09:07,  9.13s/it]"
     ]
    },
    {
     "name": "stdout",
     "output_type": "stream",
     "text": [
      "test acc: 0.0 test_correct_num: 0 total_v: 1280.0 total_loss: Tensor(\"add:0\", shape=(), dtype=float32)\n"
     ]
    },
    {
     "name": "stderr",
     "output_type": "stream",
     "text": [
      "\r",
      " 58%|█████▊    | 81/140 [12:02<08:56,  9.10s/it]"
     ]
    },
    {
     "name": "stdout",
     "output_type": "stream",
     "text": [
      "test acc: 0.0 test_correct_num: 0 total_v: 1296.0 total_loss: Tensor(\"add:0\", shape=(), dtype=float32)\n"
     ]
    },
    {
     "name": "stderr",
     "output_type": "stream",
     "text": [
      "\r",
      " 59%|█████▊    | 82/140 [12:11<08:38,  8.95s/it]"
     ]
    },
    {
     "name": "stdout",
     "output_type": "stream",
     "text": [
      "test acc: 0.0 test_correct_num: 0 total_v: 1312.0 total_loss: Tensor(\"add:0\", shape=(), dtype=float32)\n"
     ]
    },
    {
     "name": "stderr",
     "output_type": "stream",
     "text": [
      "\r",
      " 59%|█████▉    | 83/140 [12:20<08:26,  8.89s/it]"
     ]
    },
    {
     "name": "stdout",
     "output_type": "stream",
     "text": [
      "test acc: 0.0 test_correct_num: 0 total_v: 1328.0 total_loss: Tensor(\"add:0\", shape=(), dtype=float32)\n"
     ]
    },
    {
     "name": "stderr",
     "output_type": "stream",
     "text": [
      "\r",
      " 60%|██████    | 84/140 [12:29<08:29,  9.09s/it]"
     ]
    },
    {
     "name": "stdout",
     "output_type": "stream",
     "text": [
      "test acc: 0.0 test_correct_num: 0 total_v: 1344.0 total_loss: Tensor(\"add:0\", shape=(), dtype=float32)\n"
     ]
    },
    {
     "name": "stderr",
     "output_type": "stream",
     "text": [
      "\r",
      " 61%|██████    | 85/140 [12:39<08:28,  9.25s/it]"
     ]
    },
    {
     "name": "stdout",
     "output_type": "stream",
     "text": [
      "test acc: 0.0 test_correct_num: 0 total_v: 1360.0 total_loss: Tensor(\"add:0\", shape=(), dtype=float32)\n"
     ]
    },
    {
     "name": "stderr",
     "output_type": "stream",
     "text": [
      "\r",
      " 61%|██████▏   | 86/140 [12:49<08:28,  9.42s/it]"
     ]
    },
    {
     "name": "stdout",
     "output_type": "stream",
     "text": [
      "test acc: 0.0 test_correct_num: 0 total_v: 1376.0 total_loss: Tensor(\"add:0\", shape=(), dtype=float32)\n"
     ]
    },
    {
     "name": "stderr",
     "output_type": "stream",
     "text": [
      "\r",
      " 62%|██████▏   | 87/140 [12:58<08:22,  9.48s/it]"
     ]
    },
    {
     "name": "stdout",
     "output_type": "stream",
     "text": [
      "test acc: 0.0 test_correct_num: 0 total_v: 1392.0 total_loss: Tensor(\"add:0\", shape=(), dtype=float32)\n"
     ]
    },
    {
     "name": "stderr",
     "output_type": "stream",
     "text": [
      "\r",
      " 63%|██████▎   | 88/140 [13:08<08:14,  9.52s/it]"
     ]
    },
    {
     "name": "stdout",
     "output_type": "stream",
     "text": [
      "test acc: 0.0 test_correct_num: 0 total_v: 1408.0 total_loss: Tensor(\"add:0\", shape=(), dtype=float32)\n"
     ]
    },
    {
     "name": "stderr",
     "output_type": "stream",
     "text": [
      "\r",
      " 64%|██████▎   | 89/140 [13:17<07:58,  9.39s/it]"
     ]
    },
    {
     "name": "stdout",
     "output_type": "stream",
     "text": [
      "test acc: 0.0 test_correct_num: 0 total_v: 1424.0 total_loss: Tensor(\"add:0\", shape=(), dtype=float32)\n"
     ]
    },
    {
     "name": "stderr",
     "output_type": "stream",
     "text": [
      "\r",
      " 64%|██████▍   | 90/140 [13:26<07:46,  9.33s/it]"
     ]
    },
    {
     "name": "stdout",
     "output_type": "stream",
     "text": [
      "test acc: 0.0 test_correct_num: 0 total_v: 1440.0 total_loss: Tensor(\"add:0\", shape=(), dtype=float32)\n"
     ]
    },
    {
     "name": "stderr",
     "output_type": "stream",
     "text": [
      "\r",
      " 65%|██████▌   | 91/140 [13:34<07:17,  8.93s/it]"
     ]
    },
    {
     "name": "stdout",
     "output_type": "stream",
     "text": [
      "test acc: 0.0 test_correct_num: 0 total_v: 1456.0 total_loss: Tensor(\"add:0\", shape=(), dtype=float32)\n"
     ]
    },
    {
     "name": "stderr",
     "output_type": "stream",
     "text": [
      "\r",
      " 66%|██████▌   | 92/140 [13:44<07:19,  9.15s/it]"
     ]
    },
    {
     "name": "stdout",
     "output_type": "stream",
     "text": [
      "test acc: 0.0 test_correct_num: 0 total_v: 1472.0 total_loss: Tensor(\"add:0\", shape=(), dtype=float32)\n"
     ]
    },
    {
     "name": "stderr",
     "output_type": "stream",
     "text": [
      "\r",
      " 66%|██████▋   | 93/140 [13:53<07:11,  9.18s/it]"
     ]
    },
    {
     "name": "stdout",
     "output_type": "stream",
     "text": [
      "test acc: 0.0 test_correct_num: 0 total_v: 1488.0 total_loss: Tensor(\"add:0\", shape=(), dtype=float32)\n"
     ]
    },
    {
     "name": "stderr",
     "output_type": "stream",
     "text": [
      "\r",
      " 67%|██████▋   | 94/140 [14:02<07:03,  9.20s/it]"
     ]
    },
    {
     "name": "stdout",
     "output_type": "stream",
     "text": [
      "test acc: 0.0 test_correct_num: 0 total_v: 1504.0 total_loss: Tensor(\"add:0\", shape=(), dtype=float32)\n"
     ]
    },
    {
     "name": "stderr",
     "output_type": "stream",
     "text": [
      "\r",
      " 68%|██████▊   | 95/140 [14:11<06:45,  9.02s/it]"
     ]
    },
    {
     "name": "stdout",
     "output_type": "stream",
     "text": [
      "test acc: 0.0 test_correct_num: 0 total_v: 1520.0 total_loss: Tensor(\"add:0\", shape=(), dtype=float32)\n"
     ]
    },
    {
     "name": "stderr",
     "output_type": "stream",
     "text": [
      "\r",
      " 69%|██████▊   | 96/140 [14:19<06:19,  8.62s/it]"
     ]
    },
    {
     "name": "stdout",
     "output_type": "stream",
     "text": [
      "test acc: 0.0 test_correct_num: 0 total_v: 1536.0 total_loss: Tensor(\"add:0\", shape=(), dtype=float32)\n"
     ]
    },
    {
     "name": "stderr",
     "output_type": "stream",
     "text": [
      "\r",
      " 69%|██████▉   | 97/140 [14:28<06:23,  8.92s/it]"
     ]
    },
    {
     "name": "stdout",
     "output_type": "stream",
     "text": [
      "test acc: 0.0 test_correct_num: 0 total_v: 1552.0 total_loss: Tensor(\"add:0\", shape=(), dtype=float32)\n"
     ]
    },
    {
     "name": "stderr",
     "output_type": "stream",
     "text": [
      "\r",
      " 70%|███████   | 98/140 [14:39<06:31,  9.32s/it]"
     ]
    },
    {
     "name": "stdout",
     "output_type": "stream",
     "text": [
      "test acc: 0.0 test_correct_num: 0 total_v: 1568.0 total_loss: Tensor(\"add:0\", shape=(), dtype=float32)\n"
     ]
    },
    {
     "name": "stderr",
     "output_type": "stream",
     "text": [
      "\r",
      " 71%|███████   | 99/140 [14:48<06:18,  9.23s/it]"
     ]
    },
    {
     "name": "stdout",
     "output_type": "stream",
     "text": [
      "test acc: 0.0 test_correct_num: 0 total_v: 1584.0 total_loss: Tensor(\"add:0\", shape=(), dtype=float32)\n"
     ]
    },
    {
     "name": "stderr",
     "output_type": "stream",
     "text": [
      "\r",
      " 71%|███████▏  | 100/140 [14:57<06:14,  9.37s/it]"
     ]
    },
    {
     "name": "stdout",
     "output_type": "stream",
     "text": [
      "test acc: 0.0 test_correct_num: 0 total_v: 1600.0 total_loss: Tensor(\"add:0\", shape=(), dtype=float32)\n"
     ]
    },
    {
     "name": "stderr",
     "output_type": "stream",
     "text": [
      "\r",
      " 72%|███████▏  | 101/140 [15:06<06:03,  9.32s/it]"
     ]
    },
    {
     "name": "stdout",
     "output_type": "stream",
     "text": [
      "test acc: 0.0 test_correct_num: 0 total_v: 1616.0 total_loss: Tensor(\"add:0\", shape=(), dtype=float32)\n"
     ]
    },
    {
     "name": "stderr",
     "output_type": "stream",
     "text": [
      "\r",
      " 73%|███████▎  | 102/140 [15:17<06:04,  9.58s/it]"
     ]
    },
    {
     "name": "stdout",
     "output_type": "stream",
     "text": [
      "test acc: 0.0 test_correct_num: 0 total_v: 1632.0 total_loss: Tensor(\"add:0\", shape=(), dtype=float32)\n"
     ]
    },
    {
     "name": "stderr",
     "output_type": "stream",
     "text": [
      "\r",
      " 74%|███████▎  | 103/140 [15:25<05:38,  9.16s/it]"
     ]
    },
    {
     "name": "stdout",
     "output_type": "stream",
     "text": [
      "test acc: 0.0 test_correct_num: 0 total_v: 1648.0 total_loss: Tensor(\"add:0\", shape=(), dtype=float32)\n"
     ]
    },
    {
     "name": "stderr",
     "output_type": "stream",
     "text": [
      "\r",
      " 74%|███████▍  | 104/140 [15:33<05:23,  8.99s/it]"
     ]
    },
    {
     "name": "stdout",
     "output_type": "stream",
     "text": [
      "test acc: 0.0 test_correct_num: 0 total_v: 1664.0 total_loss: Tensor(\"add:0\", shape=(), dtype=float32)\n"
     ]
    },
    {
     "name": "stderr",
     "output_type": "stream",
     "text": [
      "\r",
      " 75%|███████▌  | 105/140 [15:42<05:05,  8.74s/it]"
     ]
    },
    {
     "name": "stdout",
     "output_type": "stream",
     "text": [
      "test acc: 0.0 test_correct_num: 0 total_v: 1680.0 total_loss: Tensor(\"add:0\", shape=(), dtype=float32)\n"
     ]
    },
    {
     "name": "stderr",
     "output_type": "stream",
     "text": [
      "\r",
      " 76%|███████▌  | 106/140 [15:50<04:50,  8.54s/it]"
     ]
    },
    {
     "name": "stdout",
     "output_type": "stream",
     "text": [
      "test acc: 0.0 test_correct_num: 0 total_v: 1696.0 total_loss: Tensor(\"add:0\", shape=(), dtype=float32)\n"
     ]
    },
    {
     "name": "stderr",
     "output_type": "stream",
     "text": [
      "\r",
      " 76%|███████▋  | 107/140 [15:58<04:37,  8.41s/it]"
     ]
    },
    {
     "name": "stdout",
     "output_type": "stream",
     "text": [
      "test acc: 0.0 test_correct_num: 0 total_v: 1712.0 total_loss: Tensor(\"add:0\", shape=(), dtype=float32)\n"
     ]
    },
    {
     "name": "stderr",
     "output_type": "stream",
     "text": [
      "\r",
      " 77%|███████▋  | 108/140 [16:07<04:40,  8.78s/it]"
     ]
    },
    {
     "name": "stdout",
     "output_type": "stream",
     "text": [
      "test acc: 0.0 test_correct_num: 0 total_v: 1728.0 total_loss: Tensor(\"add:0\", shape=(), dtype=float32)\n"
     ]
    },
    {
     "name": "stderr",
     "output_type": "stream",
     "text": [
      "\r",
      " 78%|███████▊  | 109/140 [16:16<04:30,  8.71s/it]"
     ]
    },
    {
     "name": "stdout",
     "output_type": "stream",
     "text": [
      "test acc: 0.0 test_correct_num: 0 total_v: 1744.0 total_loss: Tensor(\"add:0\", shape=(), dtype=float32)\n"
     ]
    },
    {
     "name": "stderr",
     "output_type": "stream",
     "text": [
      "\r",
      " 79%|███████▊  | 110/140 [16:25<04:20,  8.69s/it]"
     ]
    },
    {
     "name": "stdout",
     "output_type": "stream",
     "text": [
      "test acc: 0.0 test_correct_num: 0 total_v: 1760.0 total_loss: Tensor(\"add:0\", shape=(), dtype=float32)\n"
     ]
    },
    {
     "name": "stderr",
     "output_type": "stream",
     "text": [
      "\r",
      " 79%|███████▉  | 111/140 [16:32<03:57,  8.20s/it]"
     ]
    },
    {
     "name": "stdout",
     "output_type": "stream",
     "text": [
      "test acc: 0.0 test_correct_num: 0 total_v: 1776.0 total_loss: Tensor(\"add:0\", shape=(), dtype=float32)\n"
     ]
    },
    {
     "name": "stderr",
     "output_type": "stream",
     "text": [
      "\r",
      " 80%|████████  | 112/140 [16:39<03:45,  8.06s/it]"
     ]
    },
    {
     "name": "stdout",
     "output_type": "stream",
     "text": [
      "test acc: 0.0 test_correct_num: 0 total_v: 1792.0 total_loss: Tensor(\"add:0\", shape=(), dtype=float32)\n"
     ]
    },
    {
     "name": "stderr",
     "output_type": "stream",
     "text": [
      "\r",
      " 81%|████████  | 113/140 [16:49<03:46,  8.39s/it]"
     ]
    },
    {
     "name": "stdout",
     "output_type": "stream",
     "text": [
      "test acc: 0.0 test_correct_num: 0 total_v: 1808.0 total_loss: Tensor(\"add:0\", shape=(), dtype=float32)\n"
     ]
    },
    {
     "name": "stderr",
     "output_type": "stream",
     "text": [
      "\r",
      " 81%|████████▏ | 114/140 [16:57<03:39,  8.45s/it]"
     ]
    },
    {
     "name": "stdout",
     "output_type": "stream",
     "text": [
      "test acc: 0.0 test_correct_num: 0 total_v: 1824.0 total_loss: Tensor(\"add:0\", shape=(), dtype=float32)\n"
     ]
    },
    {
     "name": "stderr",
     "output_type": "stream",
     "text": [
      "\r",
      " 82%|████████▏ | 115/140 [17:07<03:39,  8.80s/it]"
     ]
    },
    {
     "name": "stdout",
     "output_type": "stream",
     "text": [
      "test acc: 0.0 test_correct_num: 0 total_v: 1840.0 total_loss: Tensor(\"add:0\", shape=(), dtype=float32)\n"
     ]
    },
    {
     "name": "stderr",
     "output_type": "stream",
     "text": [
      "\r",
      " 83%|████████▎ | 116/140 [17:16<03:33,  8.89s/it]"
     ]
    },
    {
     "name": "stdout",
     "output_type": "stream",
     "text": [
      "test acc: 0.0 test_correct_num: 0 total_v: 1856.0 total_loss: Tensor(\"add:0\", shape=(), dtype=float32)\n"
     ]
    },
    {
     "name": "stderr",
     "output_type": "stream",
     "text": [
      "\r",
      " 84%|████████▎ | 117/140 [17:25<03:26,  8.97s/it]"
     ]
    },
    {
     "name": "stdout",
     "output_type": "stream",
     "text": [
      "test acc: 0.0 test_correct_num: 0 total_v: 1872.0 total_loss: Tensor(\"add:0\", shape=(), dtype=float32)\n"
     ]
    },
    {
     "name": "stderr",
     "output_type": "stream",
     "text": [
      "\r",
      " 84%|████████▍ | 118/140 [17:35<03:21,  9.16s/it]"
     ]
    },
    {
     "name": "stdout",
     "output_type": "stream",
     "text": [
      "test acc: 0.0 test_correct_num: 0 total_v: 1888.0 total_loss: Tensor(\"add:0\", shape=(), dtype=float32)\n"
     ]
    },
    {
     "name": "stderr",
     "output_type": "stream",
     "text": [
      "\r",
      " 85%|████████▌ | 119/140 [17:43<03:05,  8.81s/it]"
     ]
    },
    {
     "name": "stdout",
     "output_type": "stream",
     "text": [
      "test acc: 0.0 test_correct_num: 0 total_v: 1904.0 total_loss: Tensor(\"add:0\", shape=(), dtype=float32)\n"
     ]
    },
    {
     "name": "stderr",
     "output_type": "stream",
     "text": [
      "\r",
      " 86%|████████▌ | 120/140 [17:52<02:58,  8.92s/it]"
     ]
    },
    {
     "name": "stdout",
     "output_type": "stream",
     "text": [
      "test acc: 0.0 test_correct_num: 0 total_v: 1920.0 total_loss: Tensor(\"add:0\", shape=(), dtype=float32)\n"
     ]
    },
    {
     "name": "stderr",
     "output_type": "stream",
     "text": [
      "\r",
      " 86%|████████▋ | 121/140 [18:01<02:50,  8.96s/it]"
     ]
    },
    {
     "name": "stdout",
     "output_type": "stream",
     "text": [
      "test acc: 0.0 test_correct_num: 0 total_v: 1936.0 total_loss: Tensor(\"add:0\", shape=(), dtype=float32)\n"
     ]
    },
    {
     "name": "stderr",
     "output_type": "stream",
     "text": [
      "\r",
      " 87%|████████▋ | 122/140 [18:11<02:47,  9.32s/it]"
     ]
    },
    {
     "name": "stdout",
     "output_type": "stream",
     "text": [
      "test acc: 0.0 test_correct_num: 0 total_v: 1952.0 total_loss: Tensor(\"add:0\", shape=(), dtype=float32)\n"
     ]
    },
    {
     "name": "stderr",
     "output_type": "stream",
     "text": [
      "\r",
      " 88%|████████▊ | 123/140 [18:20<02:37,  9.26s/it]"
     ]
    },
    {
     "name": "stdout",
     "output_type": "stream",
     "text": [
      "test acc: 0.0 test_correct_num: 0 total_v: 1968.0 total_loss: Tensor(\"add:0\", shape=(), dtype=float32)\n"
     ]
    },
    {
     "name": "stderr",
     "output_type": "stream",
     "text": [
      "\r",
      " 89%|████████▊ | 124/140 [18:28<02:19,  8.73s/it]"
     ]
    },
    {
     "name": "stdout",
     "output_type": "stream",
     "text": [
      "test acc: 0.0 test_correct_num: 0 total_v: 1984.0 total_loss: Tensor(\"add:0\", shape=(), dtype=float32)\n"
     ]
    },
    {
     "name": "stderr",
     "output_type": "stream",
     "text": [
      "\r",
      " 89%|████████▉ | 125/140 [18:37<02:12,  8.85s/it]"
     ]
    },
    {
     "name": "stdout",
     "output_type": "stream",
     "text": [
      "test acc: 0.0 test_correct_num: 0 total_v: 2000.0 total_loss: Tensor(\"add:0\", shape=(), dtype=float32)\n"
     ]
    },
    {
     "name": "stderr",
     "output_type": "stream",
     "text": [
      "\r",
      " 90%|█████████ | 126/140 [18:46<02:05,  8.94s/it]"
     ]
    },
    {
     "name": "stdout",
     "output_type": "stream",
     "text": [
      "test acc: 0.0 test_correct_num: 0 total_v: 2016.0 total_loss: Tensor(\"add:0\", shape=(), dtype=float32)\n"
     ]
    },
    {
     "name": "stderr",
     "output_type": "stream",
     "text": [
      "\r",
      " 91%|█████████ | 127/140 [18:54<01:52,  8.68s/it]"
     ]
    },
    {
     "name": "stdout",
     "output_type": "stream",
     "text": [
      "test acc: 0.0 test_correct_num: 0 total_v: 2032.0 total_loss: Tensor(\"add:0\", shape=(), dtype=float32)\n"
     ]
    },
    {
     "name": "stderr",
     "output_type": "stream",
     "text": [
      "\r",
      " 91%|█████████▏| 128/140 [19:03<01:45,  8.82s/it]"
     ]
    },
    {
     "name": "stdout",
     "output_type": "stream",
     "text": [
      "test acc: 0.0 test_correct_num: 0 total_v: 2048.0 total_loss: Tensor(\"add:0\", shape=(), dtype=float32)\n"
     ]
    },
    {
     "name": "stderr",
     "output_type": "stream",
     "text": [
      "\r",
      " 92%|█████████▏| 129/140 [19:11<01:34,  8.62s/it]"
     ]
    },
    {
     "name": "stdout",
     "output_type": "stream",
     "text": [
      "test acc: 0.0 test_correct_num: 0 total_v: 2064.0 total_loss: Tensor(\"add:0\", shape=(), dtype=float32)\n"
     ]
    },
    {
     "name": "stderr",
     "output_type": "stream",
     "text": [
      "\r",
      " 93%|█████████▎| 130/140 [19:21<01:29,  8.95s/it]"
     ]
    },
    {
     "name": "stdout",
     "output_type": "stream",
     "text": [
      "test acc: 0.0 test_correct_num: 0 total_v: 2080.0 total_loss: Tensor(\"add:0\", shape=(), dtype=float32)\n"
     ]
    },
    {
     "name": "stderr",
     "output_type": "stream",
     "text": [
      "\r",
      " 94%|█████████▎| 131/140 [19:31<01:22,  9.17s/it]"
     ]
    },
    {
     "name": "stdout",
     "output_type": "stream",
     "text": [
      "test acc: 0.0 test_correct_num: 0 total_v: 2096.0 total_loss: Tensor(\"add:0\", shape=(), dtype=float32)\n"
     ]
    },
    {
     "name": "stderr",
     "output_type": "stream",
     "text": [
      "\r",
      " 94%|█████████▍| 132/140 [19:40<01:13,  9.13s/it]"
     ]
    },
    {
     "name": "stdout",
     "output_type": "stream",
     "text": [
      "test acc: 0.0 test_correct_num: 0 total_v: 2112.0 total_loss: Tensor(\"add:0\", shape=(), dtype=float32)\n"
     ]
    },
    {
     "name": "stderr",
     "output_type": "stream",
     "text": [
      "\r",
      " 95%|█████████▌| 133/140 [19:48<01:02,  8.99s/it]"
     ]
    },
    {
     "name": "stdout",
     "output_type": "stream",
     "text": [
      "test acc: 0.0 test_correct_num: 0 total_v: 2128.0 total_loss: Tensor(\"add:0\", shape=(), dtype=float32)\n"
     ]
    },
    {
     "name": "stderr",
     "output_type": "stream",
     "text": [
      "\r",
      " 96%|█████████▌| 134/140 [19:58<00:54,  9.05s/it]"
     ]
    },
    {
     "name": "stdout",
     "output_type": "stream",
     "text": [
      "test acc: 0.0 test_correct_num: 0 total_v: 2144.0 total_loss: Tensor(\"add:0\", shape=(), dtype=float32)\n"
     ]
    },
    {
     "name": "stderr",
     "output_type": "stream",
     "text": [
      "\r",
      " 96%|█████████▋| 135/140 [20:07<00:45,  9.11s/it]"
     ]
    },
    {
     "name": "stdout",
     "output_type": "stream",
     "text": [
      "test acc: 0.0 test_correct_num: 0 total_v: 2160.0 total_loss: Tensor(\"add:0\", shape=(), dtype=float32)\n"
     ]
    },
    {
     "name": "stderr",
     "output_type": "stream",
     "text": [
      "\r",
      " 97%|█████████▋| 136/140 [20:16<00:36,  9.13s/it]"
     ]
    },
    {
     "name": "stdout",
     "output_type": "stream",
     "text": [
      "test acc: 0.0 test_correct_num: 0 total_v: 2176.0 total_loss: Tensor(\"add:0\", shape=(), dtype=float32)\n"
     ]
    },
    {
     "name": "stderr",
     "output_type": "stream",
     "text": [
      "\r",
      " 98%|█████████▊| 137/140 [20:23<00:25,  8.48s/it]"
     ]
    },
    {
     "name": "stdout",
     "output_type": "stream",
     "text": [
      "test acc: 0.0 test_correct_num: 0 total_v: 2192.0 total_loss: Tensor(\"add:0\", shape=(), dtype=float32)\n"
     ]
    },
    {
     "name": "stderr",
     "output_type": "stream",
     "text": [
      "\r",
      " 99%|█████████▊| 138/140 [20:33<00:17,  8.84s/it]"
     ]
    },
    {
     "name": "stdout",
     "output_type": "stream",
     "text": [
      "test acc: 0.0 test_correct_num: 0 total_v: 2208.0 total_loss: Tensor(\"add:0\", shape=(), dtype=float32)\n"
     ]
    },
    {
     "name": "stderr",
     "output_type": "stream",
     "text": [
      "\r",
      " 99%|█████████▉| 139/140 [20:41<00:08,  8.76s/it]"
     ]
    },
    {
     "name": "stdout",
     "output_type": "stream",
     "text": [
      "test acc: 0.0 test_correct_num: 0 total_v: 2224.0 total_loss: Tensor(\"add:0\", shape=(), dtype=float32)\n"
     ]
    },
    {
     "name": "stderr",
     "output_type": "stream",
     "text": [
      "100%|██████████| 140/140 [20:50<00:00,  8.93s/it]"
     ]
    },
    {
     "name": "stdout",
     "output_type": "stream",
     "text": [
      "test acc: 0.0 test_correct_num: 0 total_v: 2240.0 total_loss: Tensor(\"add:0\", shape=(), dtype=float32)\n"
     ]
    },
    {
     "name": "stderr",
     "output_type": "stream",
     "text": [
      "\n"
     ]
    }
   ],
   "source": [
    "%run Random_clip_valid.py"
   ]
  },
  {
   "cell_type": "code",
   "execution_count": null,
   "metadata": {},
   "outputs": [],
   "source": []
  }
 ],
 "metadata": {
  "kernelspec": {
   "display_name": "Python 3",
   "language": "python",
   "name": "python3"
  },
  "language_info": {
   "codemirror_mode": {
    "name": "ipython",
    "version": 3
   },
   "file_extension": ".py",
   "mimetype": "text/x-python",
   "name": "python",
   "nbconvert_exporter": "python",
   "pygments_lexer": "ipython3",
   "version": "3.6.13"
  }
 },
 "nbformat": 4,
 "nbformat_minor": 2
}
